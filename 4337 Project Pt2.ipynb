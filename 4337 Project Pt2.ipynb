{
 "cells": [
  {
   "cell_type": "code",
   "execution_count": 124,
   "metadata": {
    "scrolled": true
   },
   "outputs": [],
   "source": [
    "import pandas as pd\n",
    "import numpy as np\n",
    "\n",
    "import matplotlib.pyplot as plt\n",
    "import seaborn as sb\n",
    "from pylab import rcParams\n",
    "from sklearn import preprocessing\n",
    "import scipy\n",
    "\n",
    "from sklearn.model_selection import train_test_split\n",
    "\n",
    "from sklearn.metrics import accuracy_score\n",
    "from sklearn.preprocessing import StandardScaler\n",
    "from sklearn.discriminant_analysis import LinearDiscriminantAnalysis as LDA\n",
    "from sklearn.decomposition import PCA\n",
    "from sklearn.ensemble import RandomForestClassifier\n",
    "\n",
    "from sklearn.neighbors import KNeighborsClassifier\n",
    "from sklearn.metrics import confusion_matrix\n",
    "\n",
    "from sklearn.model_selection import train_test_split,GridSearchCV\n",
    "from sklearn.metrics import confusion_matrix,classification_report,accuracy_score,plot_confusion_matrix\n",
    "from sklearn import tree\n",
    "\n",
    "from sklearn.model_selection import learning_curve\n",
    "from sklearn.metrics import ConfusionMatrixDisplay\n",
    "from sklearn.svm import SVC\n",
    "\n",
    "import copy\n",
    "from sklearn.model_selection import KFold\n",
    "import time\n",
    "from sklearn.neural_network import MLPClassifier\n",
    "from sklearn.metrics import f1_score\n",
    "\n",
    "from sklearn.preprocessing import MinMaxScaler\n",
    "\n",
    "import os\n",
    "import tensorflow as tf\n",
    "\n",
    "from tensorflow.keras.models import Sequential\n",
    "from tensorflow.keras.layers import Dense\n",
    "from tensorflow.keras.layers import LSTM\n",
    "from tensorflow.keras.layers import Dropout\n",
    "\n",
    "sc = MinMaxScaler(feature_range = (0, 1))\n",
    "\n",
    "%matplotlib inline"
   ]
  },
  {
   "cell_type": "code",
   "execution_count": 125,
   "metadata": {},
   "outputs": [],
   "source": [
    "address1 = '0.csv'\n",
    "address2 = '1.csv'\n",
    "address3 = '2.csv'\n",
    "address4 = '3.csv'\n",
    "names = ['s1r1','s2r1','s3r1','s4r1','s5r1','s6r1','s7r1','s8r1',\n",
    "               's1r2','s2r2','s3r2','s4r2','s5r2','s6r2','s7r2','s8r2',\n",
    "               's1r3','s2r3','s3r3','s4r3','s5r3','s6r3','s7r3','s8r3',\n",
    "               's1r4','s2r4','s3r4','s4r4','s5r4','s6r4','s7r4','s8r4',\n",
    "               's1r5','s2r5','s3r5','s4r5','s5r5','s6r5','s7r5','s8r5',\n",
    "               's1r6','s2r6','s3r6','s4r6','s5r6','s6r6','s7r6','s8r6',\n",
    "               's1r7','s2r7','s3r7','s4r7','s5r7','s6r7','s7r7','s8r7',\n",
    "               's1r8','s2r8','s3r8','s4r8','s5r8','s6r8','s7r8','s8r8','outcome']\n",
    "df1 = pd.read_csv(address1,names=names)\n",
    "df2 = pd.read_csv(address2,names=names)\n",
    "df3 = pd.read_csv(address3,names=names)\n",
    "df4 = pd.read_csv(address4,names=names)\n",
    "frames = [df1,df2,df3,df4]\n",
    "data = pd.concat(frames)"
   ]
  },
  {
   "cell_type": "code",
   "execution_count": 126,
   "metadata": {},
   "outputs": [
    {
     "data": {
      "text/html": [
       "<div>\n",
       "<style scoped>\n",
       "    .dataframe tbody tr th:only-of-type {\n",
       "        vertical-align: middle;\n",
       "    }\n",
       "\n",
       "    .dataframe tbody tr th {\n",
       "        vertical-align: top;\n",
       "    }\n",
       "\n",
       "    .dataframe thead th {\n",
       "        text-align: right;\n",
       "    }\n",
       "</style>\n",
       "<table border=\"1\" class=\"dataframe\">\n",
       "  <thead>\n",
       "    <tr style=\"text-align: right;\">\n",
       "      <th></th>\n",
       "      <th>s1r1</th>\n",
       "      <th>s2r1</th>\n",
       "      <th>s3r1</th>\n",
       "      <th>s4r1</th>\n",
       "      <th>s5r1</th>\n",
       "      <th>s6r1</th>\n",
       "      <th>s7r1</th>\n",
       "      <th>s8r1</th>\n",
       "      <th>s1r2</th>\n",
       "      <th>s2r2</th>\n",
       "      <th>...</th>\n",
       "      <th>s8r7</th>\n",
       "      <th>s1r8</th>\n",
       "      <th>s2r8</th>\n",
       "      <th>s3r8</th>\n",
       "      <th>s4r8</th>\n",
       "      <th>s5r8</th>\n",
       "      <th>s6r8</th>\n",
       "      <th>s7r8</th>\n",
       "      <th>s8r8</th>\n",
       "      <th>outcome</th>\n",
       "    </tr>\n",
       "  </thead>\n",
       "  <tbody>\n",
       "    <tr>\n",
       "      <th>count</th>\n",
       "      <td>11678.000000</td>\n",
       "      <td>11678.000000</td>\n",
       "      <td>11678.000000</td>\n",
       "      <td>11678.000000</td>\n",
       "      <td>11678.000000</td>\n",
       "      <td>11678.000000</td>\n",
       "      <td>11678.000000</td>\n",
       "      <td>11678.000000</td>\n",
       "      <td>11678.000000</td>\n",
       "      <td>11678.000000</td>\n",
       "      <td>...</td>\n",
       "      <td>11678.000000</td>\n",
       "      <td>11678.000000</td>\n",
       "      <td>11678.000000</td>\n",
       "      <td>11678.000000</td>\n",
       "      <td>11678.000000</td>\n",
       "      <td>11678.000000</td>\n",
       "      <td>11678.000000</td>\n",
       "      <td>11678.000000</td>\n",
       "      <td>11678.000000</td>\n",
       "      <td>11678.000000</td>\n",
       "    </tr>\n",
       "    <tr>\n",
       "      <th>mean</th>\n",
       "      <td>-0.520380</td>\n",
       "      <td>-0.726837</td>\n",
       "      <td>-0.739082</td>\n",
       "      <td>-0.729748</td>\n",
       "      <td>-0.159103</td>\n",
       "      <td>-0.554890</td>\n",
       "      <td>-1.272649</td>\n",
       "      <td>-0.661843</td>\n",
       "      <td>-0.665953</td>\n",
       "      <td>-0.654222</td>\n",
       "      <td>...</td>\n",
       "      <td>-0.932694</td>\n",
       "      <td>-0.836958</td>\n",
       "      <td>-0.740623</td>\n",
       "      <td>-0.768710</td>\n",
       "      <td>-0.705343</td>\n",
       "      <td>-0.146686</td>\n",
       "      <td>-0.374807</td>\n",
       "      <td>-1.449306</td>\n",
       "      <td>-0.609094</td>\n",
       "      <td>1.503254</td>\n",
       "    </tr>\n",
       "    <tr>\n",
       "      <th>std</th>\n",
       "      <td>18.566709</td>\n",
       "      <td>11.766878</td>\n",
       "      <td>4.989944</td>\n",
       "      <td>7.441675</td>\n",
       "      <td>17.850402</td>\n",
       "      <td>25.809528</td>\n",
       "      <td>25.089972</td>\n",
       "      <td>15.408896</td>\n",
       "      <td>18.123854</td>\n",
       "      <td>11.841260</td>\n",
       "      <td>...</td>\n",
       "      <td>15.158993</td>\n",
       "      <td>18.204465</td>\n",
       "      <td>12.005206</td>\n",
       "      <td>4.969758</td>\n",
       "      <td>7.384410</td>\n",
       "      <td>17.841479</td>\n",
       "      <td>25.551082</td>\n",
       "      <td>25.259736</td>\n",
       "      <td>15.530091</td>\n",
       "      <td>1.117541</td>\n",
       "    </tr>\n",
       "    <tr>\n",
       "      <th>min</th>\n",
       "      <td>-116.000000</td>\n",
       "      <td>-104.000000</td>\n",
       "      <td>-33.000000</td>\n",
       "      <td>-75.000000</td>\n",
       "      <td>-121.000000</td>\n",
       "      <td>-122.000000</td>\n",
       "      <td>-128.000000</td>\n",
       "      <td>-128.000000</td>\n",
       "      <td>-110.000000</td>\n",
       "      <td>-128.000000</td>\n",
       "      <td>...</td>\n",
       "      <td>-128.000000</td>\n",
       "      <td>-116.000000</td>\n",
       "      <td>-128.000000</td>\n",
       "      <td>-46.000000</td>\n",
       "      <td>-74.000000</td>\n",
       "      <td>-103.000000</td>\n",
       "      <td>-128.000000</td>\n",
       "      <td>-128.000000</td>\n",
       "      <td>-124.000000</td>\n",
       "      <td>0.000000</td>\n",
       "    </tr>\n",
       "    <tr>\n",
       "      <th>25%</th>\n",
       "      <td>-9.000000</td>\n",
       "      <td>-4.000000</td>\n",
       "      <td>-3.000000</td>\n",
       "      <td>-4.000000</td>\n",
       "      <td>-10.000000</td>\n",
       "      <td>-15.000000</td>\n",
       "      <td>-6.000000</td>\n",
       "      <td>-8.000000</td>\n",
       "      <td>-9.000000</td>\n",
       "      <td>-4.000000</td>\n",
       "      <td>...</td>\n",
       "      <td>-8.000000</td>\n",
       "      <td>-9.000000</td>\n",
       "      <td>-4.000000</td>\n",
       "      <td>-3.000000</td>\n",
       "      <td>-4.000000</td>\n",
       "      <td>-10.000000</td>\n",
       "      <td>-14.000000</td>\n",
       "      <td>-6.000000</td>\n",
       "      <td>-8.000000</td>\n",
       "      <td>1.000000</td>\n",
       "    </tr>\n",
       "    <tr>\n",
       "      <th>50%</th>\n",
       "      <td>-1.000000</td>\n",
       "      <td>-1.000000</td>\n",
       "      <td>-1.000000</td>\n",
       "      <td>-1.000000</td>\n",
       "      <td>0.000000</td>\n",
       "      <td>-1.000000</td>\n",
       "      <td>-1.000000</td>\n",
       "      <td>-1.000000</td>\n",
       "      <td>-1.000000</td>\n",
       "      <td>-1.000000</td>\n",
       "      <td>...</td>\n",
       "      <td>-1.000000</td>\n",
       "      <td>-1.000000</td>\n",
       "      <td>-1.000000</td>\n",
       "      <td>-1.000000</td>\n",
       "      <td>-1.000000</td>\n",
       "      <td>0.000000</td>\n",
       "      <td>-1.000000</td>\n",
       "      <td>-1.000000</td>\n",
       "      <td>-1.000000</td>\n",
       "      <td>2.000000</td>\n",
       "    </tr>\n",
       "    <tr>\n",
       "      <th>75%</th>\n",
       "      <td>7.000000</td>\n",
       "      <td>3.000000</td>\n",
       "      <td>2.000000</td>\n",
       "      <td>3.000000</td>\n",
       "      <td>10.000000</td>\n",
       "      <td>13.000000</td>\n",
       "      <td>4.000000</td>\n",
       "      <td>6.000000</td>\n",
       "      <td>6.000000</td>\n",
       "      <td>3.000000</td>\n",
       "      <td>...</td>\n",
       "      <td>6.000000</td>\n",
       "      <td>6.000000</td>\n",
       "      <td>3.000000</td>\n",
       "      <td>2.000000</td>\n",
       "      <td>3.000000</td>\n",
       "      <td>10.000000</td>\n",
       "      <td>13.000000</td>\n",
       "      <td>3.000000</td>\n",
       "      <td>6.000000</td>\n",
       "      <td>3.000000</td>\n",
       "    </tr>\n",
       "    <tr>\n",
       "      <th>max</th>\n",
       "      <td>111.000000</td>\n",
       "      <td>90.000000</td>\n",
       "      <td>34.000000</td>\n",
       "      <td>55.000000</td>\n",
       "      <td>92.000000</td>\n",
       "      <td>127.000000</td>\n",
       "      <td>127.000000</td>\n",
       "      <td>126.000000</td>\n",
       "      <td>127.000000</td>\n",
       "      <td>106.000000</td>\n",
       "      <td>...</td>\n",
       "      <td>114.000000</td>\n",
       "      <td>127.000000</td>\n",
       "      <td>105.000000</td>\n",
       "      <td>29.000000</td>\n",
       "      <td>51.000000</td>\n",
       "      <td>110.000000</td>\n",
       "      <td>127.000000</td>\n",
       "      <td>127.000000</td>\n",
       "      <td>127.000000</td>\n",
       "      <td>3.000000</td>\n",
       "    </tr>\n",
       "  </tbody>\n",
       "</table>\n",
       "<p>8 rows × 65 columns</p>\n",
       "</div>"
      ],
      "text/plain": [
       "               s1r1          s2r1          s3r1          s4r1          s5r1  \\\n",
       "count  11678.000000  11678.000000  11678.000000  11678.000000  11678.000000   \n",
       "mean      -0.520380     -0.726837     -0.739082     -0.729748     -0.159103   \n",
       "std       18.566709     11.766878      4.989944      7.441675     17.850402   \n",
       "min     -116.000000   -104.000000    -33.000000    -75.000000   -121.000000   \n",
       "25%       -9.000000     -4.000000     -3.000000     -4.000000    -10.000000   \n",
       "50%       -1.000000     -1.000000     -1.000000     -1.000000      0.000000   \n",
       "75%        7.000000      3.000000      2.000000      3.000000     10.000000   \n",
       "max      111.000000     90.000000     34.000000     55.000000     92.000000   \n",
       "\n",
       "               s6r1          s7r1          s8r1          s1r2          s2r2  \\\n",
       "count  11678.000000  11678.000000  11678.000000  11678.000000  11678.000000   \n",
       "mean      -0.554890     -1.272649     -0.661843     -0.665953     -0.654222   \n",
       "std       25.809528     25.089972     15.408896     18.123854     11.841260   \n",
       "min     -122.000000   -128.000000   -128.000000   -110.000000   -128.000000   \n",
       "25%      -15.000000     -6.000000     -8.000000     -9.000000     -4.000000   \n",
       "50%       -1.000000     -1.000000     -1.000000     -1.000000     -1.000000   \n",
       "75%       13.000000      4.000000      6.000000      6.000000      3.000000   \n",
       "max      127.000000    127.000000    126.000000    127.000000    106.000000   \n",
       "\n",
       "       ...          s8r7          s1r8          s2r8          s3r8  \\\n",
       "count  ...  11678.000000  11678.000000  11678.000000  11678.000000   \n",
       "mean   ...     -0.932694     -0.836958     -0.740623     -0.768710   \n",
       "std    ...     15.158993     18.204465     12.005206      4.969758   \n",
       "min    ...   -128.000000   -116.000000   -128.000000    -46.000000   \n",
       "25%    ...     -8.000000     -9.000000     -4.000000     -3.000000   \n",
       "50%    ...     -1.000000     -1.000000     -1.000000     -1.000000   \n",
       "75%    ...      6.000000      6.000000      3.000000      2.000000   \n",
       "max    ...    114.000000    127.000000    105.000000     29.000000   \n",
       "\n",
       "               s4r8          s5r8          s6r8          s7r8          s8r8  \\\n",
       "count  11678.000000  11678.000000  11678.000000  11678.000000  11678.000000   \n",
       "mean      -0.705343     -0.146686     -0.374807     -1.449306     -0.609094   \n",
       "std        7.384410     17.841479     25.551082     25.259736     15.530091   \n",
       "min      -74.000000   -103.000000   -128.000000   -128.000000   -124.000000   \n",
       "25%       -4.000000    -10.000000    -14.000000     -6.000000     -8.000000   \n",
       "50%       -1.000000      0.000000     -1.000000     -1.000000     -1.000000   \n",
       "75%        3.000000     10.000000     13.000000      3.000000      6.000000   \n",
       "max       51.000000    110.000000    127.000000    127.000000    127.000000   \n",
       "\n",
       "            outcome  \n",
       "count  11678.000000  \n",
       "mean       1.503254  \n",
       "std        1.117541  \n",
       "min        0.000000  \n",
       "25%        1.000000  \n",
       "50%        2.000000  \n",
       "75%        3.000000  \n",
       "max        3.000000  \n",
       "\n",
       "[8 rows x 65 columns]"
      ]
     },
     "execution_count": 126,
     "metadata": {},
     "output_type": "execute_result"
    }
   ],
   "source": [
    "data.describe()"
   ]
  },
  {
   "cell_type": "code",
   "execution_count": 127,
   "metadata": {},
   "outputs": [
    {
     "data": {
      "text/html": [
       "<div>\n",
       "<style scoped>\n",
       "    .dataframe tbody tr th:only-of-type {\n",
       "        vertical-align: middle;\n",
       "    }\n",
       "\n",
       "    .dataframe tbody tr th {\n",
       "        vertical-align: top;\n",
       "    }\n",
       "\n",
       "    .dataframe thead th {\n",
       "        text-align: right;\n",
       "    }\n",
       "</style>\n",
       "<table border=\"1\" class=\"dataframe\">\n",
       "  <thead>\n",
       "    <tr style=\"text-align: right;\">\n",
       "      <th></th>\n",
       "      <th>s1r1</th>\n",
       "      <th>s2r1</th>\n",
       "      <th>s3r1</th>\n",
       "      <th>s4r1</th>\n",
       "      <th>s5r1</th>\n",
       "      <th>s6r1</th>\n",
       "      <th>s7r1</th>\n",
       "      <th>s8r1</th>\n",
       "      <th>s1r2</th>\n",
       "      <th>s2r2</th>\n",
       "      <th>...</th>\n",
       "      <th>s8r7</th>\n",
       "      <th>s1r8</th>\n",
       "      <th>s2r8</th>\n",
       "      <th>s3r8</th>\n",
       "      <th>s4r8</th>\n",
       "      <th>s5r8</th>\n",
       "      <th>s6r8</th>\n",
       "      <th>s7r8</th>\n",
       "      <th>s8r8</th>\n",
       "      <th>outcome</th>\n",
       "    </tr>\n",
       "  </thead>\n",
       "  <tbody>\n",
       "    <tr>\n",
       "      <th>s1r1</th>\n",
       "      <td>1.000000</td>\n",
       "      <td>0.236175</td>\n",
       "      <td>0.055443</td>\n",
       "      <td>0.007532</td>\n",
       "      <td>-0.022459</td>\n",
       "      <td>0.012504</td>\n",
       "      <td>0.131200</td>\n",
       "      <td>0.230922</td>\n",
       "      <td>-0.357610</td>\n",
       "      <td>-0.072079</td>\n",
       "      <td>...</td>\n",
       "      <td>0.026089</td>\n",
       "      <td>0.004530</td>\n",
       "      <td>0.007598</td>\n",
       "      <td>0.000008</td>\n",
       "      <td>-0.009172</td>\n",
       "      <td>-0.016544</td>\n",
       "      <td>-0.010714</td>\n",
       "      <td>-0.019816</td>\n",
       "      <td>-0.005071</td>\n",
       "      <td>-0.005067</td>\n",
       "    </tr>\n",
       "    <tr>\n",
       "      <th>s2r1</th>\n",
       "      <td>0.236175</td>\n",
       "      <td>1.000000</td>\n",
       "      <td>0.335145</td>\n",
       "      <td>0.087050</td>\n",
       "      <td>-0.065602</td>\n",
       "      <td>-0.018666</td>\n",
       "      <td>0.066148</td>\n",
       "      <td>0.085071</td>\n",
       "      <td>-0.054460</td>\n",
       "      <td>-0.276969</td>\n",
       "      <td>...</td>\n",
       "      <td>0.007169</td>\n",
       "      <td>-0.010128</td>\n",
       "      <td>-0.004745</td>\n",
       "      <td>0.007680</td>\n",
       "      <td>-0.006762</td>\n",
       "      <td>-0.010608</td>\n",
       "      <td>-0.006335</td>\n",
       "      <td>-0.017750</td>\n",
       "      <td>-0.004669</td>\n",
       "      <td>-0.002406</td>\n",
       "    </tr>\n",
       "    <tr>\n",
       "      <th>s3r1</th>\n",
       "      <td>0.055443</td>\n",
       "      <td>0.335145</td>\n",
       "      <td>1.000000</td>\n",
       "      <td>0.510603</td>\n",
       "      <td>-0.049996</td>\n",
       "      <td>0.025723</td>\n",
       "      <td>0.094532</td>\n",
       "      <td>0.111974</td>\n",
       "      <td>-0.029452</td>\n",
       "      <td>-0.129410</td>\n",
       "      <td>...</td>\n",
       "      <td>-0.003032</td>\n",
       "      <td>0.010135</td>\n",
       "      <td>-0.025798</td>\n",
       "      <td>-0.013198</td>\n",
       "      <td>-0.014346</td>\n",
       "      <td>0.018602</td>\n",
       "      <td>0.006114</td>\n",
       "      <td>-0.007898</td>\n",
       "      <td>-0.007970</td>\n",
       "      <td>-0.001895</td>\n",
       "    </tr>\n",
       "    <tr>\n",
       "      <th>s4r1</th>\n",
       "      <td>0.007532</td>\n",
       "      <td>0.087050</td>\n",
       "      <td>0.510603</td>\n",
       "      <td>1.000000</td>\n",
       "      <td>0.050598</td>\n",
       "      <td>0.062652</td>\n",
       "      <td>0.034946</td>\n",
       "      <td>0.040564</td>\n",
       "      <td>-0.015133</td>\n",
       "      <td>-0.053802</td>\n",
       "      <td>...</td>\n",
       "      <td>-0.013151</td>\n",
       "      <td>0.004011</td>\n",
       "      <td>0.002588</td>\n",
       "      <td>-0.019178</td>\n",
       "      <td>-0.017830</td>\n",
       "      <td>0.017195</td>\n",
       "      <td>-0.001214</td>\n",
       "      <td>0.000571</td>\n",
       "      <td>-0.003883</td>\n",
       "      <td>-0.006233</td>\n",
       "    </tr>\n",
       "    <tr>\n",
       "      <th>s5r1</th>\n",
       "      <td>-0.022459</td>\n",
       "      <td>-0.065602</td>\n",
       "      <td>-0.049996</td>\n",
       "      <td>0.050598</td>\n",
       "      <td>1.000000</td>\n",
       "      <td>0.509146</td>\n",
       "      <td>0.090774</td>\n",
       "      <td>0.033018</td>\n",
       "      <td>-0.003021</td>\n",
       "      <td>0.004497</td>\n",
       "      <td>...</td>\n",
       "      <td>0.012888</td>\n",
       "      <td>-0.022000</td>\n",
       "      <td>0.003458</td>\n",
       "      <td>-0.004212</td>\n",
       "      <td>-0.001602</td>\n",
       "      <td>0.002776</td>\n",
       "      <td>-0.011707</td>\n",
       "      <td>-0.009237</td>\n",
       "      <td>-0.018266</td>\n",
       "      <td>-0.003997</td>\n",
       "    </tr>\n",
       "    <tr>\n",
       "      <th>...</th>\n",
       "      <td>...</td>\n",
       "      <td>...</td>\n",
       "      <td>...</td>\n",
       "      <td>...</td>\n",
       "      <td>...</td>\n",
       "      <td>...</td>\n",
       "      <td>...</td>\n",
       "      <td>...</td>\n",
       "      <td>...</td>\n",
       "      <td>...</td>\n",
       "      <td>...</td>\n",
       "      <td>...</td>\n",
       "      <td>...</td>\n",
       "      <td>...</td>\n",
       "      <td>...</td>\n",
       "      <td>...</td>\n",
       "      <td>...</td>\n",
       "      <td>...</td>\n",
       "      <td>...</td>\n",
       "      <td>...</td>\n",
       "      <td>...</td>\n",
       "    </tr>\n",
       "    <tr>\n",
       "      <th>s5r8</th>\n",
       "      <td>-0.016544</td>\n",
       "      <td>-0.010608</td>\n",
       "      <td>0.018602</td>\n",
       "      <td>0.017195</td>\n",
       "      <td>0.002776</td>\n",
       "      <td>-0.015946</td>\n",
       "      <td>-0.008885</td>\n",
       "      <td>-0.004736</td>\n",
       "      <td>0.004999</td>\n",
       "      <td>-0.009214</td>\n",
       "      <td>...</td>\n",
       "      <td>0.011465</td>\n",
       "      <td>-0.005862</td>\n",
       "      <td>-0.059276</td>\n",
       "      <td>-0.055527</td>\n",
       "      <td>0.047117</td>\n",
       "      <td>1.000000</td>\n",
       "      <td>0.510996</td>\n",
       "      <td>0.109822</td>\n",
       "      <td>0.033822</td>\n",
       "      <td>0.001852</td>\n",
       "    </tr>\n",
       "    <tr>\n",
       "      <th>s6r8</th>\n",
       "      <td>-0.010714</td>\n",
       "      <td>-0.006335</td>\n",
       "      <td>0.006114</td>\n",
       "      <td>-0.001214</td>\n",
       "      <td>-0.011707</td>\n",
       "      <td>-0.019112</td>\n",
       "      <td>0.005507</td>\n",
       "      <td>-0.000081</td>\n",
       "      <td>0.006306</td>\n",
       "      <td>0.002171</td>\n",
       "      <td>...</td>\n",
       "      <td>0.008811</td>\n",
       "      <td>0.030463</td>\n",
       "      <td>-0.012113</td>\n",
       "      <td>0.009803</td>\n",
       "      <td>0.032700</td>\n",
       "      <td>0.510996</td>\n",
       "      <td>1.000000</td>\n",
       "      <td>0.242202</td>\n",
       "      <td>0.136009</td>\n",
       "      <td>-0.000523</td>\n",
       "    </tr>\n",
       "    <tr>\n",
       "      <th>s7r8</th>\n",
       "      <td>-0.019816</td>\n",
       "      <td>-0.017750</td>\n",
       "      <td>-0.007898</td>\n",
       "      <td>0.000571</td>\n",
       "      <td>-0.009237</td>\n",
       "      <td>-0.033776</td>\n",
       "      <td>-0.021347</td>\n",
       "      <td>-0.015342</td>\n",
       "      <td>0.015947</td>\n",
       "      <td>-0.008663</td>\n",
       "      <td>...</td>\n",
       "      <td>-0.160650</td>\n",
       "      <td>0.112836</td>\n",
       "      <td>0.066652</td>\n",
       "      <td>0.084170</td>\n",
       "      <td>0.037117</td>\n",
       "      <td>0.109822</td>\n",
       "      <td>0.242202</td>\n",
       "      <td>1.000000</td>\n",
       "      <td>0.463950</td>\n",
       "      <td>0.038721</td>\n",
       "    </tr>\n",
       "    <tr>\n",
       "      <th>s8r8</th>\n",
       "      <td>-0.005071</td>\n",
       "      <td>-0.004669</td>\n",
       "      <td>-0.007970</td>\n",
       "      <td>-0.003883</td>\n",
       "      <td>-0.018266</td>\n",
       "      <td>-0.031778</td>\n",
       "      <td>-0.021536</td>\n",
       "      <td>-0.033932</td>\n",
       "      <td>0.012057</td>\n",
       "      <td>-0.005195</td>\n",
       "      <td>...</td>\n",
       "      <td>-0.296766</td>\n",
       "      <td>0.226695</td>\n",
       "      <td>0.098331</td>\n",
       "      <td>0.112107</td>\n",
       "      <td>0.062475</td>\n",
       "      <td>0.033822</td>\n",
       "      <td>0.136009</td>\n",
       "      <td>0.463950</td>\n",
       "      <td>1.000000</td>\n",
       "      <td>0.016770</td>\n",
       "    </tr>\n",
       "    <tr>\n",
       "      <th>outcome</th>\n",
       "      <td>-0.005067</td>\n",
       "      <td>-0.002406</td>\n",
       "      <td>-0.001895</td>\n",
       "      <td>-0.006233</td>\n",
       "      <td>-0.003997</td>\n",
       "      <td>-0.018646</td>\n",
       "      <td>0.029230</td>\n",
       "      <td>0.001853</td>\n",
       "      <td>-0.007747</td>\n",
       "      <td>-0.001949</td>\n",
       "      <td>...</td>\n",
       "      <td>0.006129</td>\n",
       "      <td>0.009529</td>\n",
       "      <td>-0.005013</td>\n",
       "      <td>0.008337</td>\n",
       "      <td>0.005047</td>\n",
       "      <td>0.001852</td>\n",
       "      <td>-0.000523</td>\n",
       "      <td>0.038721</td>\n",
       "      <td>0.016770</td>\n",
       "      <td>1.000000</td>\n",
       "    </tr>\n",
       "  </tbody>\n",
       "</table>\n",
       "<p>65 rows × 65 columns</p>\n",
       "</div>"
      ],
      "text/plain": [
       "             s1r1      s2r1      s3r1      s4r1      s5r1      s6r1      s7r1  \\\n",
       "s1r1     1.000000  0.236175  0.055443  0.007532 -0.022459  0.012504  0.131200   \n",
       "s2r1     0.236175  1.000000  0.335145  0.087050 -0.065602 -0.018666  0.066148   \n",
       "s3r1     0.055443  0.335145  1.000000  0.510603 -0.049996  0.025723  0.094532   \n",
       "s4r1     0.007532  0.087050  0.510603  1.000000  0.050598  0.062652  0.034946   \n",
       "s5r1    -0.022459 -0.065602 -0.049996  0.050598  1.000000  0.509146  0.090774   \n",
       "...           ...       ...       ...       ...       ...       ...       ...   \n",
       "s5r8    -0.016544 -0.010608  0.018602  0.017195  0.002776 -0.015946 -0.008885   \n",
       "s6r8    -0.010714 -0.006335  0.006114 -0.001214 -0.011707 -0.019112  0.005507   \n",
       "s7r8    -0.019816 -0.017750 -0.007898  0.000571 -0.009237 -0.033776 -0.021347   \n",
       "s8r8    -0.005071 -0.004669 -0.007970 -0.003883 -0.018266 -0.031778 -0.021536   \n",
       "outcome -0.005067 -0.002406 -0.001895 -0.006233 -0.003997 -0.018646  0.029230   \n",
       "\n",
       "             s8r1      s1r2      s2r2  ...      s8r7      s1r8      s2r8  \\\n",
       "s1r1     0.230922 -0.357610 -0.072079  ...  0.026089  0.004530  0.007598   \n",
       "s2r1     0.085071 -0.054460 -0.276969  ...  0.007169 -0.010128 -0.004745   \n",
       "s3r1     0.111974 -0.029452 -0.129410  ... -0.003032  0.010135 -0.025798   \n",
       "s4r1     0.040564 -0.015133 -0.053802  ... -0.013151  0.004011  0.002588   \n",
       "s5r1     0.033018 -0.003021  0.004497  ...  0.012888 -0.022000  0.003458   \n",
       "...           ...       ...       ...  ...       ...       ...       ...   \n",
       "s5r8    -0.004736  0.004999 -0.009214  ...  0.011465 -0.005862 -0.059276   \n",
       "s6r8    -0.000081  0.006306  0.002171  ...  0.008811  0.030463 -0.012113   \n",
       "s7r8    -0.015342  0.015947 -0.008663  ... -0.160650  0.112836  0.066652   \n",
       "s8r8    -0.033932  0.012057 -0.005195  ... -0.296766  0.226695  0.098331   \n",
       "outcome  0.001853 -0.007747 -0.001949  ...  0.006129  0.009529 -0.005013   \n",
       "\n",
       "             s3r8      s4r8      s5r8      s6r8      s7r8      s8r8   outcome  \n",
       "s1r1     0.000008 -0.009172 -0.016544 -0.010714 -0.019816 -0.005071 -0.005067  \n",
       "s2r1     0.007680 -0.006762 -0.010608 -0.006335 -0.017750 -0.004669 -0.002406  \n",
       "s3r1    -0.013198 -0.014346  0.018602  0.006114 -0.007898 -0.007970 -0.001895  \n",
       "s4r1    -0.019178 -0.017830  0.017195 -0.001214  0.000571 -0.003883 -0.006233  \n",
       "s5r1    -0.004212 -0.001602  0.002776 -0.011707 -0.009237 -0.018266 -0.003997  \n",
       "...           ...       ...       ...       ...       ...       ...       ...  \n",
       "s5r8    -0.055527  0.047117  1.000000  0.510996  0.109822  0.033822  0.001852  \n",
       "s6r8     0.009803  0.032700  0.510996  1.000000  0.242202  0.136009 -0.000523  \n",
       "s7r8     0.084170  0.037117  0.109822  0.242202  1.000000  0.463950  0.038721  \n",
       "s8r8     0.112107  0.062475  0.033822  0.136009  0.463950  1.000000  0.016770  \n",
       "outcome  0.008337  0.005047  0.001852 -0.000523  0.038721  0.016770  1.000000  \n",
       "\n",
       "[65 rows x 65 columns]"
      ]
     },
     "execution_count": 127,
     "metadata": {},
     "output_type": "execute_result"
    }
   ],
   "source": [
    "corr = data.corr()\n",
    "corr"
   ]
  },
  {
   "cell_type": "code",
   "execution_count": 10,
   "metadata": {},
   "outputs": [
    {
     "name": "stdout",
     "output_type": "stream",
     "text": [
      "(2,3)\n",
      "(4,5)\n",
      "(10,11)\n",
      "(18,19)\n",
      "(20,21)\n",
      "(28,29)\n",
      "(34,35)\n",
      "(42,43)\n",
      "(44,45)\n",
      "(52,53)\n",
      "(58,59)\n",
      "(60,61)\n"
     ]
    }
   ],
   "source": [
    "x,y = np.where(abs(corr)>0.5)\n",
    "\n",
    "for i in range(len(x)):\n",
    "    if(x[i]<y[i]):\n",
    "        print('('+repr(x[i])+','+repr(y[i])+')')"
   ]
  },
  {
   "cell_type": "code",
   "execution_count": 11,
   "metadata": {},
   "outputs": [
    {
     "data": {
      "text/plain": [
       "<matplotlib.axes._subplots.AxesSubplot at 0x7faedd8251f0>"
      ]
     },
     "execution_count": 11,
     "metadata": {},
     "output_type": "execute_result"
    },
    {
     "data": {
      "image/png": "[encoded data removed]",
      "text/plain": [
       "<Figure size 432x288 with 1 Axes>"
      ]
     },
     "metadata": {},
     "output_type": "display_data"
    }
   ],
   "source": [
    "sb.set_style('whitegrid')\n",
    "sb.boxplot(y=data[:64], showfliers = True)"
   ]
  },
  {
   "cell_type": "code",
   "execution_count": 12,
   "metadata": {},
   "outputs": [
    {
     "data": {
      "text/plain": [
       "<matplotlib.axes._subplots.AxesSubplot at 0x7faedd827e80>"
      ]
     },
     "execution_count": 12,
     "metadata": {},
     "output_type": "execute_result"
    },
    {
     "data": {
      "image/png": "[encoded data removed]",
      "text/plain": [
       "<Figure size 432x288 with 1 Axes>"
      ]
     },
     "metadata": {},
     "output_type": "display_data"
    }
   ],
   "source": [
    "sb.boxplot(y=data[:64], showfliers = False)"
   ]
  },
  {
   "cell_type": "code",
   "execution_count": 13,
   "metadata": {},
   "outputs": [
    {
     "data": {
      "text/plain": [
       "(array([9.000e+00, 2.900e+01, 1.500e+02, 1.066e+03, 7.276e+03, 2.572e+03,\n",
       "        4.280e+02, 1.190e+02, 2.200e+01, 7.000e+00]),\n",
       " array([-116. ,  -91.7,  -67.4,  -43.1,  -18.8,    5.5,   29.8,   54.1,\n",
       "          78.4,  102.7,  127. ]),\n",
       " <a list of 10 Patch objects>)"
      ]
     },
     "execution_count": 13,
     "metadata": {},
     "output_type": "execute_result"
    },
    {
     "data": {
      "image/png": "[encoded data removed]",
      "text/plain": [
       "<Figure size 1152x288 with 8 Axes>"
      ]
     },
     "metadata": {},
     "output_type": "display_data"
    }
   ],
   "source": [
    "plt.figure(figsize=(16,4));\n",
    "plt.subplot(241)\n",
    "plt.hist(data['s1r1'])\n",
    "plt.subplot(242)\n",
    "plt.hist(data['s1r2'])\n",
    "plt.subplot(243)\n",
    "plt.hist(data['s1r3'])\n",
    "plt.subplot(244)\n",
    "plt.hist(data['s1r4'])\n",
    "plt.subplot(245)\n",
    "plt.hist(data['s1r5'])\n",
    "plt.subplot(246)\n",
    "plt.hist(data['s1r6'])\n",
    "plt.subplot(247)\n",
    "plt.hist(data['s1r7'])\n",
    "plt.subplot(248)\n",
    "plt.hist(data['s1r8'])"
   ]
  },
  {
   "cell_type": "code",
   "execution_count": 14,
   "metadata": {},
   "outputs": [
    {
     "data": {
      "text/plain": [
       "(array([6.000e+00, 1.400e+01, 5.300e+01, 3.420e+02, 5.187e+03, 5.532e+03,\n",
       "        4.460e+02, 7.700e+01, 1.700e+01, 4.000e+00]),\n",
       " array([-128. , -102.6,  -77.2,  -51.8,  -26.4,   -1. ,   24.4,   49.8,\n",
       "          75.2,  100.6,  126. ]),\n",
       " <a list of 10 Patch objects>)"
      ]
     },
     "execution_count": 14,
     "metadata": {},
     "output_type": "execute_result"
    },
    {
     "data": {
      "image/png": "[encoded data removed]",
      "text/plain": [
       "<Figure size 1152x288 with 8 Axes>"
      ]
     },
     "metadata": {},
     "output_type": "display_data"
    }
   ],
   "source": [
    "plt.figure(figsize=(16,4));\n",
    "plt.subplot(241)\n",
    "plt.hist(data['s1r1'])\n",
    "plt.subplot(242)\n",
    "plt.hist(data['s2r1'])\n",
    "plt.subplot(243)\n",
    "plt.hist(data['s3r1'])\n",
    "plt.subplot(244)\n",
    "plt.hist(data['s4r1'])\n",
    "plt.subplot(245)\n",
    "plt.hist(data['s5r1'])\n",
    "plt.subplot(246)\n",
    "plt.hist(data['s6r1'])\n",
    "plt.subplot(247)\n",
    "plt.hist(data['s7r1'])\n",
    "plt.subplot(248)\n",
    "plt.hist(data['s8r1'])"
   ]
  },
  {
   "cell_type": "code",
   "execution_count": 15,
   "metadata": {},
   "outputs": [
    {
     "data": {
      "text/plain": [
       "<matplotlib.axes._subplots.AxesSubplot at 0x7faede76ca30>"
      ]
     },
     "execution_count": 15,
     "metadata": {},
     "output_type": "execute_result"
    },
    {
     "data": {
      "image/png": "[encoded data removed]",
      "text/plain": [
       "<Figure size 1152x1152 with 8 Axes>"
      ]
     },
     "metadata": {},
     "output_type": "display_data"
    }
   ],
   "source": [
    "sb.set_style('whitegrid')\n",
    "plt.figure(figsize=(16,16));\n",
    "plt.subplot(241)\n",
    "sb.boxplot(x='outcome',y = 's1r1',data=data, showfliers = False)\n",
    "plt.subplot(242)\n",
    "sb.boxplot(x='outcome',y = 's1r1',data=data, showfliers = True)\n",
    "plt.subplot(243)\n",
    "sb.boxplot(x='outcome',y = 's1r2',data=data, showfliers = False)\n",
    "plt.subplot(244)\n",
    "sb.boxplot(x='outcome',y = 's1r2',data=data, showfliers = True)\n",
    "plt.subplot(245)\n",
    "sb.boxplot(x='outcome',y = 's2r1',data=data, showfliers = False)\n",
    "plt.subplot(246)\n",
    "sb.boxplot(x='outcome',y = 's2r1',data=data, showfliers = True)\n",
    "plt.subplot(247)\n",
    "sb.boxplot(x='outcome',y = 's2r2',data=data, showfliers = False)\n",
    "plt.subplot(248)\n",
    "sb.boxplot(x='outcome',y = 's2r2',data=data, showfliers = True)"
   ]
  },
  {
   "cell_type": "code",
   "execution_count": 16,
   "metadata": {},
   "outputs": [
    {
     "data": {
      "text/plain": [
       "<matplotlib.axes._subplots.AxesSubplot at 0x7faede1f0160>"
      ]
     },
     "execution_count": 16,
     "metadata": {},
     "output_type": "execute_result"
    },
    {
     "data": {
      "image/png": "[encoded data removed]",
      "text/plain": [
       "<Figure size 1152x1152 with 8 Axes>"
      ]
     },
     "metadata": {},
     "output_type": "display_data"
    }
   ],
   "source": [
    "sb.set_style('whitegrid')\n",
    "plt.figure(figsize=(16,16));\n",
    "plt.subplot(241)\n",
    "sb.boxplot(x='outcome',y = 's1r1',data=data)\n",
    "plt.subplot(242)\n",
    "sb.boxplot(x='outcome',y = 's2r1',data=data)\n",
    "plt.subplot(243)\n",
    "sb.boxplot(x='outcome',y = 's3r1',data=data)\n",
    "plt.subplot(244)\n",
    "sb.boxplot(x='outcome',y = 's4r1',data=data)\n",
    "plt.subplot(245)\n",
    "sb.boxplot(x='outcome',y = 's5r1',data=data)\n",
    "plt.subplot(246)\n",
    "sb.boxplot(x='outcome',y = 's6r1',data=data)\n",
    "plt.subplot(247)\n",
    "sb.boxplot(x='outcome',y = 's7r1',data=data)\n",
    "plt.subplot(248)\n",
    "sb.boxplot(x='outcome',y = 's8r1',data=data)"
   ]
  },
  {
   "cell_type": "code",
   "execution_count": 17,
   "metadata": {},
   "outputs": [
    {
     "data": {
      "text/plain": [
       "Text(0.5, 1.0, 'Sensor 7 Reading 1')"
      ]
     },
     "execution_count": 17,
     "metadata": {},
     "output_type": "execute_result"
    },
    {
     "data": {
      "image/png": "[encoded data removed]",
      "text/plain": [
       "<Figure size 1152x1152 with 1 Axes>"
      ]
     },
     "metadata": {},
     "output_type": "display_data"
    }
   ],
   "source": [
    "sb.set_style('whitegrid')\n",
    "plt.figure(figsize=(16,16));\n",
    "sb.boxplot(x='outcome',y = 's7r1',data=data, showfliers = True)\n",
    "plt.title(\"Sensor 7 Reading 1\",fontsize=20)"
   ]
  },
  {
   "cell_type": "code",
   "execution_count": 18,
   "metadata": {},
   "outputs": [
    {
     "data": {
      "text/plain": [
       "Text(0.5, 1.0, 'Sensor 7 Reading 8')"
      ]
     },
     "execution_count": 18,
     "metadata": {},
     "output_type": "execute_result"
    },
    {
     "data": {
      "image/png": "[encoded data removed]",
      "text/plain": [
       "<Figure size 1152x1152 with 8 Axes>"
      ]
     },
     "metadata": {},
     "output_type": "display_data"
    }
   ],
   "source": [
    "sb.set_style('whitegrid')\n",
    "plt.figure(figsize=(16,16));\n",
    "\n",
    "plt.subplot(241)\n",
    "sb.boxplot(x='outcome',y = 's7r1',data=data, showfliers = True)\n",
    "plt.title(\"Sensor 7 Reading 1\")\n",
    "plt.subplot(242)\n",
    "sb.boxplot(x='outcome',y = 's7r2',data=data, showfliers = True)\n",
    "plt.title(\"Sensor 7 Reading 2\")\n",
    "plt.subplot(243)\n",
    "sb.boxplot(x='outcome',y = 's7r3',data=data, showfliers = True)\n",
    "plt.title(\"Sensor 7 Reading 3\")\n",
    "plt.subplot(244)\n",
    "sb.boxplot(x='outcome',y = 's7r4',data=data, showfliers = True)\n",
    "plt.title(\"Sensor 7 Reading 4\")\n",
    "plt.subplot(245)\n",
    "sb.boxplot(x='outcome',y = 's7r5',data=data, showfliers = True)\n",
    "plt.title(\"Sensor 7 Reading 5\")\n",
    "plt.subplot(246)\n",
    "sb.boxplot(x='outcome',y = 's7r6',data=data, showfliers = True)\n",
    "plt.title(\"Sensor 7 Reading 6\")\n",
    "plt.subplot(247)\n",
    "sb.boxplot(x='outcome',y = 's7r7',data=data, showfliers = True)\n",
    "plt.title(\"Sensor 7 Reading 7\")\n",
    "plt.subplot(248)\n",
    "sb.boxplot(x='outcome',y = 's7r8',data=data, showfliers = True)\n",
    "plt.title(\"Sensor 7 Reading 8\")"
   ]
  },
  {
   "cell_type": "code",
   "execution_count": 82,
   "metadata": {},
   "outputs": [],
   "source": [
    "dataX = data.iloc[:,0:64].values\n",
    "dataY = data.iloc[:,64].values\n",
    "X_train, X_test, y_train, y_test = train_test_split(dataX,dataY,test_size=0.7,random_state=100)"
   ]
  },
  {
   "cell_type": "code",
   "execution_count": 83,
   "metadata": {},
   "outputs": [],
   "source": [
    "sc = StandardScaler()\n",
    "dataX_scaled = sc.fit_transform(dataX)\n",
    "X_train_scaled = sc.fit_transform(X_train)\n",
    "X_test_scaled = sc.transform(X_test)\n",
    "dfX_scaled = pd.DataFrame(dataX_scaled,columns=names[:64])"
   ]
  },
  {
   "cell_type": "code",
   "execution_count": 84,
   "metadata": {},
   "outputs": [],
   "source": [
    "lda = LDA(n_components=3)\n",
    "X_train_lda = lda.fit_transform(X_train_scaled, y_train)\n",
    "X_test_lda = lda.transform(X_test_scaled)"
   ]
  },
  {
   "cell_type": "code",
   "execution_count": 85,
   "metadata": {},
   "outputs": [
    {
     "data": {
      "text/plain": [
       "array([0.04474706, 0.04379152, 0.04078266, 0.03955805, 0.03750308,\n",
       "       0.03471578, 0.03364002, 0.03308318, 0.03122149, 0.03016305,\n",
       "       0.02850274, 0.02673818, 0.02644164, 0.02589811, 0.02529324,\n",
       "       0.02504342, 0.02350778, 0.0212288 , 0.02039707, 0.0198057 ,\n",
       "       0.0194294 , 0.01867882, 0.01769234, 0.01632946, 0.01565823,\n",
       "       0.01549143, 0.01448277, 0.01397676, 0.01300504, 0.01254205,\n",
       "       0.01223892, 0.01169215, 0.01144285, 0.01108834, 0.01105617,\n",
       "       0.01046302, 0.01016096, 0.00983337, 0.00961815, 0.00950654,\n",
       "       0.00909022, 0.0081351 , 0.00756277, 0.00743812, 0.00707998,\n",
       "       0.00683969, 0.00662507, 0.00643908, 0.00625898, 0.00610485,\n",
       "       0.00594949])"
      ]
     },
     "execution_count": 85,
     "metadata": {},
     "output_type": "execute_result"
    }
   ],
   "source": [
    "pca = PCA(.95)\n",
    "#pca = PCA(.95)\n",
    "X_train_pca = pca.fit_transform(X_train_scaled)\n",
    "\n",
    "X_test_pca = pca.transform(X_test_scaled)\n",
    "explained_variance = pca.explained_variance_ratio_\n",
    "explained_variance"
   ]
  },
  {
   "cell_type": "code",
   "execution_count": 33,
   "metadata": {},
   "outputs": [],
   "source": [
    "classifier = RandomForestClassifier(random_state=0)\n",
    "classifier.fit(X_train,y_train)\n",
    "y_pred_RF = classifier.predict(X_test)"
   ]
  },
  {
   "cell_type": "code",
   "execution_count": 35,
   "metadata": {},
   "outputs": [
    {
     "name": "stdout",
     "output_type": "stream",
     "text": [
      "[[562   0   3   6]\n",
      " [  0 505  19  33]\n",
      " [  9   7 559  17]\n",
      " [ 43  21  31 521]]\n",
      "Accuracy 0.9190924657534246\n"
     ]
    }
   ],
   "source": [
    "cm_RF = confusion_matrix(y_test, y_pred_RF)\n",
    "print(cm_RF)\n",
    "print('Accuracy ' + str(accuracy_score(y_test,y_pred_RF)))"
   ]
  },
  {
   "cell_type": "code",
   "execution_count": 36,
   "metadata": {},
   "outputs": [],
   "source": [
    "nbrs = KNeighborsClassifier(n_neighbors=4)\n",
    "nbrs.fit(X_train,y_train)\n",
    "y_pred_KN = nbrs.predict(X_test)"
   ]
  },
  {
   "cell_type": "code",
   "execution_count": 51,
   "metadata": {},
   "outputs": [
    {
     "name": "stdout",
     "output_type": "stream",
     "text": [
      "[[395  99  40  37]\n",
      " [  2 533   1  21]\n",
      " [  9 215 193 175]\n",
      " [ 36 170   6 404]]\n",
      "Accuracy 0.663527397260274\n"
     ]
    }
   ],
   "source": [
    "cm_KN = confusion_matrix(y_test, y_pred_KN)\n",
    "print(cm_scaled_KN)\n",
    "print('Accuracy ' + str(accuracy_score(y_test,y_pred_KN)))"
   ]
  },
  {
   "cell_type": "code",
   "execution_count": 52,
   "metadata": {},
   "outputs": [],
   "source": [
    "classifier = RandomForestClassifier(random_state=0)\n",
    "classifier.fit(X_train_scaled,y_train)\n",
    "y_pred_scaled_RF = classifier.predict(X_test_scaled)"
   ]
  },
  {
   "cell_type": "code",
   "execution_count": 39,
   "metadata": {},
   "outputs": [
    {
     "name": "stdout",
     "output_type": "stream",
     "text": [
      "[[562   0   3   6]\n",
      " [  0 503  21  33]\n",
      " [  9   6 560  17]\n",
      " [ 42  20  31 523]]\n",
      "Accuracy 0.9195205479452054\n"
     ]
    }
   ],
   "source": [
    "cm_scaled_RF = confusion_matrix(y_test, y_pred_scaled_RF)\n",
    "print(cm_scaled_RF)\n",
    "print('Accuracy ' + str(accuracy_score(y_test,y_pred_scaled_RF)))"
   ]
  },
  {
   "cell_type": "code",
   "execution_count": 40,
   "metadata": {},
   "outputs": [],
   "source": [
    "nbrs = KNeighborsClassifier(n_neighbors=4)\n",
    "nbrs.fit(X_train_scaled,y_train)\n",
    "y_pred_scaled_KN = nbrs.predict(X_test_scaled)"
   ]
  },
  {
   "cell_type": "code",
   "execution_count": 41,
   "metadata": {},
   "outputs": [
    {
     "name": "stdout",
     "output_type": "stream",
     "text": [
      "[[395  99  40  37]\n",
      " [  2 533   1  21]\n",
      " [  9 215 193 175]\n",
      " [ 36 170   6 404]]\n",
      "Accuracy 0.6528253424657534\n"
     ]
    }
   ],
   "source": [
    "cm_scaled_KN = confusion_matrix(y_test, y_pred_scaled_KN)\n",
    "print(cm_scaled_KN)\n",
    "print('Accuracy ' + str(accuracy_score(y_test,y_pred_scaled_KN)))"
   ]
  },
  {
   "cell_type": "code",
   "execution_count": 42,
   "metadata": {},
   "outputs": [],
   "source": [
    "classifier = RandomForestClassifier(random_state=0)\n",
    "classifier.fit(X_train_lda,y_train)\n",
    "y_pred_lda_RF = classifier.predict(X_test_lda)"
   ]
  },
  {
   "cell_type": "code",
   "execution_count": 43,
   "metadata": {},
   "outputs": [
    {
     "name": "stdout",
     "output_type": "stream",
     "text": [
      "[[292 100  90  89]\n",
      " [ 42 271 108 136]\n",
      " [ 75 171 185 161]\n",
      " [ 74 182 153 207]]\n",
      "Accuracy 0.4088184931506849\n"
     ]
    }
   ],
   "source": [
    "cm_lda_RF = confusion_matrix(y_test, y_pred_lda_RF)\n",
    "print(cm_lda_RF)\n",
    "print('Accuracy ' + str(accuracy_score(y_test,y_pred_lda_RF)))"
   ]
  },
  {
   "cell_type": "code",
   "execution_count": 44,
   "metadata": {},
   "outputs": [],
   "source": [
    "nbrs = KNeighborsClassifier(n_neighbors=4)\n",
    "nbrs.fit(X_train_lda,y_train)\n",
    "y_pred_lda_KN = nbrs.predict(X_test_lda)"
   ]
  },
  {
   "cell_type": "code",
   "execution_count": 45,
   "metadata": {},
   "outputs": [
    {
     "name": "stdout",
     "output_type": "stream",
     "text": [
      "[[309  84  95  83]\n",
      " [ 87 236 121 113]\n",
      " [131 175 165 121]\n",
      " [130 167 158 161]]\n",
      "Accuracy 0.3728595890410959\n"
     ]
    }
   ],
   "source": [
    "cm_lda_KN = confusion_matrix(y_test, y_pred_lda_KN)\n",
    "print(cm_lda_KN)\n",
    "print('Accuracy ' + str(accuracy_score(y_test,y_pred_lda_KN)))"
   ]
  },
  {
   "cell_type": "code",
   "execution_count": 46,
   "metadata": {},
   "outputs": [],
   "source": [
    "classifier = RandomForestClassifier(random_state=0)\n",
    "classifier.fit(X_train_pca,y_train)\n",
    "y_pred_pca_RF = classifier.predict(X_test_pca)"
   ]
  },
  {
   "cell_type": "code",
   "execution_count": 47,
   "metadata": {},
   "outputs": [
    {
     "name": "stdout",
     "output_type": "stream",
     "text": [
      "[[452  25  69  25]\n",
      " [ 11 495  16  35]\n",
      " [ 40  23 482  47]\n",
      " [ 87  95  34 400]]\n",
      "Accuracy 0.7829623287671232\n"
     ]
    }
   ],
   "source": [
    "cm_pca_RF = confusion_matrix(y_test, y_pred_pca_RF)\n",
    "print(cm_pca_RF)\n",
    "print('Accuracy ' + str(accuracy_score(y_test,y_pred_pca_RF)))"
   ]
  },
  {
   "cell_type": "code",
   "execution_count": 48,
   "metadata": {},
   "outputs": [],
   "source": [
    "nbrs = KNeighborsClassifier(n_neighbors=4)\n",
    "nbrs.fit(X_train_pca,y_train)\n",
    "y_pred_pca_KN = nbrs.predict(X_test_pca)"
   ]
  },
  {
   "cell_type": "code",
   "execution_count": 49,
   "metadata": {},
   "outputs": [
    {
     "name": "stdout",
     "output_type": "stream",
     "text": [
      "[[382 103  35  51]\n",
      " [  2 539   1  15]\n",
      " [ 11 210 202 169]\n",
      " [ 32 185   7 392]]\n",
      "Accuracy 0.6485445205479452\n"
     ]
    }
   ],
   "source": [
    "cm_pca_KN = confusion_matrix(y_test, y_pred_pca_KN)\n",
    "print(cm_pca_KN)\n",
    "print('Accuracy ' + str(accuracy_score(y_test,y_pred_pca_KN)))"
   ]
  },
  {
   "cell_type": "code",
   "execution_count": 87,
   "metadata": {},
   "outputs": [],
   "source": [
    "def plot_confusion(title, model, X_train, y_train, X_test, y_test):\n",
    "    svm_confusion_matrix = plot_confusion_matrix(model, X_train, y_train,\n",
    "                      display_labels=['Rock','Scissors', 'Paper', 'Ok'],\n",
    "                      cmap=plt.cm.YlOrBr)\n",
    "    svm_confusion_matrix.ax_.set_title(title + \" Confusion Matrix (Training Set)\")\n",
    "    plt.show()\n",
    "\n",
    "    svm_confusion_matrix = plot_confusion_matrix(model, X_test, y_test,\n",
    "                          display_labels=['Rock','Scissors', 'Paper', 'Ok'],\n",
    "                          cmap=plt.cm.YlOrBr)\n",
    "    svm_confusion_matrix.ax_.set_title(title + \" Confusion Matrix (Testing Set)\")\n",
    "    plt.show()"
   ]
  },
  {
   "cell_type": "code",
   "execution_count": 142,
   "metadata": {},
   "outputs": [],
   "source": [
    "def plot_learning_curve(estimator, title, X, y, axes=None, ylim=None, cv=None,\n",
    "                        n_jobs=None, train_sizes=np.linspace(.1, 1.0, 5)):\n",
    "    if axes is None:\n",
    "        _, axes = plt.subplots(1, 1, figsize=(20, 5))\n",
    "\n",
    "    axes[0].set_title(title)\n",
    "    if ylim is not None:\n",
    "        axes[0].set_ylim(*ylim)\n",
    "    axes[0].set_xlabel(\"Training examples\")\n",
    "    axes[0].set_ylabel(\"Predictive Accuracy\")\n",
    "    \n",
    "    train_sizes, train_scores, test_scores, fit_times, _ = \\\n",
    "        learning_curve(estimator, X, y, cv=cv, n_jobs=n_jobs,\n",
    "                       train_sizes=train_sizes,\n",
    "                       return_times=True,verbose=2)\n",
    "    train_scores_mean = np.mean(train_scores, axis=1)\n",
    "    train_scores_std = np.std(train_scores, axis=1)\n",
    "    test_scores_mean = np.mean(test_scores, axis=1)\n",
    "    test_scores_std = np.std(test_scores, axis=1)\n",
    "    fit_times_mean = np.mean(fit_times, axis=1)\n",
    "    fit_times_std = np.std(fit_times, axis=1)\n",
    "\n",
    "    # Plot learning curve\n",
    "    axes[0].grid()\n",
    "    axes[0].fill_between(train_sizes, train_scores_mean - train_scores_std,\n",
    "                         train_scores_mean + train_scores_std, alpha=0.1,\n",
    "                         color=\"r\")\n",
    "    axes[0].fill_between(train_sizes, test_scores_mean - test_scores_std,\n",
    "                         test_scores_mean + test_scores_std, alpha=0.1,\n",
    "                         color=\"g\")\n",
    "    axes[0].plot(train_sizes, train_scores_mean, 'o-', color=\"r\",\n",
    "                 label=\"Training score\")\n",
    "    axes[0].plot(train_sizes, test_scores_mean, 'o-', color=\"g\",\n",
    "                 label=\"Cross-validation score\")\n",
    "    axes[0].legend(loc=\"best\")\n",
    "    print(\"CV Scores:\",test_scores_mean)\n",
    "\n",
    "    return plt"
   ]
  },
  {
   "cell_type": "code",
   "execution_count": 101,
   "metadata": {},
   "outputs": [
    {
     "name": "stdout",
     "output_type": "stream",
     "text": [
      "Decision Tree Train Accuracy 0.803882386525835\n",
      "Decision Tree Test Accuracy 0.7302752293577982\n",
      "[learning_curve] Training set sizes: [ 315 1024 1733 2442 3152]\n"
     ]
    },
    {
     "name": "stderr",
     "output_type": "stream",
     "text": [
      "[Parallel(n_jobs=4)]: Using backend LokyBackend with 4 concurrent workers.\n",
      "[Parallel(n_jobs=4)]: Done  25 out of  50 | elapsed:   14.5s remaining:   14.5s\n",
      "[Parallel(n_jobs=4)]: Done  50 out of  50 | elapsed:   15.1s finished\n"
     ]
    },
    {
     "name": "stdout",
     "output_type": "stream",
     "text": [
      "CV Scores: [0.60432641 0.67058934 0.71596174 0.73166707 0.73678632]\n"
     ]
    },
    {
     "data": {
      "text/plain": [
       "<module 'matplotlib.pyplot' from '/Users/ahsanaziz/opt/anaconda3/lib/python3.8/site-packages/matplotlib/pyplot.py'>"
      ]
     },
     "execution_count": 101,
     "metadata": {},
     "output_type": "execute_result"
    },
    {
     "data": {
      "image/png": "[encoded data removed]",
      "text/plain": [
       "<Figure size 576x360 with 1 Axes>"
      ]
     },
     "metadata": {
      "needs_background": "light"
     },
     "output_type": "display_data"
    }
   ],
   "source": [
    "#Estimate parameters\n",
    "decision_tree = tree.DecisionTreeClassifier(max_depth=10, \n",
    "                                  criterion='entropy',\n",
    "                                  min_samples_leaf=10,\n",
    "                                  min_samples_split=5,\n",
    "                                  random_state=0)\n",
    "decision_tree.fit(X_train, y_train)\n",
    "\n",
    "y_train_pred = decision_tree.predict(X_train)\n",
    "y_test_pred = decision_tree.predict(X_test)\n",
    "\n",
    "print('Decision Tree Train Accuracy' , accuracy_score(y_train, y_train_pred))\n",
    "print('Decision Tree Test Accuracy' , accuracy_score(y_test, y_test_pred))\n",
    "\n",
    "cv = KFold(n_splits=10, random_state=0, shuffle=True)\n",
    "\n",
    "fig, axes = plt.subplots(1,1, figsize=(8, 5))\n",
    "plot_learning_curve(decision_tree, \"Initial Decision Tree Learning Rate\", \n",
    "                    X_train, y_train, axes=[axes], ylim=(0.4, 1.01),\n",
    "                    cv=cv, n_jobs=4)"
   ]
  },
  {
   "cell_type": "code",
   "execution_count": 103,
   "metadata": {},
   "outputs": [
    {
     "name": "stdout",
     "output_type": "stream",
     "text": [
      "Fitting 10 folds for each of 800 candidates, totalling 8000 fits\n"
     ]
    },
    {
     "name": "stderr",
     "output_type": "stream",
     "text": [
      "[Parallel(n_jobs=-1)]: Using backend LokyBackend with 4 concurrent workers.\n",
      "[Parallel(n_jobs=-1)]: Done  48 tasks      | elapsed:    3.9s\n",
      "[Parallel(n_jobs=-1)]: Done 644 tasks      | elapsed:   16.3s\n",
      "[Parallel(n_jobs=-1)]: Done 1644 tasks      | elapsed:   50.0s\n",
      "[Parallel(n_jobs=-1)]: Done 2504 tasks      | elapsed:  1.5min\n",
      "[Parallel(n_jobs=-1)]: Done 3276 tasks      | elapsed:  2.4min\n",
      "[Parallel(n_jobs=-1)]: Done 4280 tasks      | elapsed:  3.3min\n",
      "[Parallel(n_jobs=-1)]: Done 5580 tasks      | elapsed:  4.1min\n",
      "[Parallel(n_jobs=-1)]: Done 7080 tasks      | elapsed:  5.2min\n",
      "[Parallel(n_jobs=-1)]: Done 8000 out of 8000 | elapsed:  5.9min finished\n"
     ]
    },
    {
     "name": "stdout",
     "output_type": "stream",
     "text": [
      "{'criterion': 'gini', 'max_depth': 15, 'min_samples_leaf': 1, 'min_samples_split': 3}\n"
     ]
    }
   ],
   "source": [
    "dt_params = {\n",
    "    \"criterion\":['gini','entropy'],\n",
    "    \"max_depth\":range(5,30),\n",
    "    \"min_samples_leaf\":range(1,5),\n",
    "    \"min_samples_split\":range(1,5)\n",
    "}\n",
    "decision_tree = tree.DecisionTreeClassifier()\n",
    "\n",
    "\n",
    "grid = GridSearchCV(decision_tree,\n",
    "                    param_grid = dt_params,\n",
    "                    cv=10,\n",
    "                    verbose=1,\n",
    "                    n_jobs=-1\n",
    ")\n",
    "grid.fit(X_train,y_train)\n",
    "print(grid.best_params_)\n",
    "#Best params:\n",
    "#{'criterion': 'gini', 'max_depth': 20, 'min_samples_leaf': 1, 'min_samples_split': 3}"
   ]
  },
  {
   "cell_type": "code",
   "execution_count": 105,
   "metadata": {},
   "outputs": [],
   "source": [
    "def r2(a,b):\n",
    "    this_correlation = np.corrcoef(a, b)[0,1]\n",
    "    this_r2 = this_correlation**2\n",
    "    return this_r2"
   ]
  },
  {
   "cell_type": "code",
   "execution_count": 148,
   "metadata": {},
   "outputs": [
    {
     "name": "stdout",
     "output_type": "stream",
     "text": [
      "Training time: 0.18572473526000977\n",
      "Decision Tree Train Accuracy 0.972023979446189\n",
      "Decision Tree Train r2 score: 0.9188562363749792\n",
      "Decision Tree Test Accuracy 0.7577981651376147\n",
      "Decision Tree Test r2 score: 0.41604128436936905\n",
      "F1 SCORE: 0.758\n"
     ]
    }
   ],
   "source": [
    "start_time = time.time();\n",
    "decision_tree = tree.DecisionTreeClassifier(max_depth=20,\n",
    "                                  criterion='gini',\n",
    "                                  random_state=0,\n",
    "                                  min_samples_leaf=1,\n",
    "                                  min_samples_split=3)\n",
    "decision_tree.fit(X_train, y_train)\n",
    "print(\"Training time:\",time.time()-start_time)\n",
    "\n",
    "start_time = time.time();\n",
    "y_train_pred = decision_tree.predict(X_train)\n",
    "y_test_pred = decision_tree.predict(X_test)\n",
    "\n",
    "print('Decision Tree Train Accuracy' , accuracy_score(y_train, y_train_pred))\n",
    "print(\"Decision Tree Train r2 score:\",r2(y_train, y_train_pred))\n",
    "print('Decision Tree Test Accuracy' , accuracy_score(y_test, y_test_pred))\n",
    "print(\"Decision Tree Test r2 score:\",r2(y_test, y_test_pred))\n",
    "print(\"F1 SCORE:\",round(f1_score(y_test, y_test_pred, average='micro'),3))"
   ]
  },
  {
   "cell_type": "code",
   "execution_count": 107,
   "metadata": {},
   "outputs": [
    {
     "name": "stdout",
     "output_type": "stream",
     "text": [
      "[learning_curve] Training set sizes: [ 315 1024 1733 2442 3152]\n"
     ]
    },
    {
     "name": "stderr",
     "output_type": "stream",
     "text": [
      "[Parallel(n_jobs=4)]: Using backend LokyBackend with 4 concurrent workers.\n",
      "[Parallel(n_jobs=4)]: Done  25 out of  50 | elapsed:    4.2s remaining:    4.2s\n",
      "[Parallel(n_jobs=4)]: Done  50 out of  50 | elapsed:    5.1s finished\n"
     ]
    },
    {
     "name": "stdout",
     "output_type": "stream",
     "text": [
      "CV Scores: [0.60803826 0.70254945 0.73993081 0.73794872 0.76591372]\n"
     ]
    },
    {
     "data": {
      "text/plain": [
       "<module 'matplotlib.pyplot' from '/Users/ahsanaziz/opt/anaconda3/lib/python3.8/site-packages/matplotlib/pyplot.py'>"
      ]
     },
     "execution_count": 107,
     "metadata": {},
     "output_type": "execute_result"
    },
    {
     "data": {
      "image/png": "[encoded data removed]",
      "text/plain": [
       "<Figure size 576x360 with 1 Axes>"
      ]
     },
     "metadata": {
      "needs_background": "light"
     },
     "output_type": "display_data"
    }
   ],
   "source": [
    "cv = KFold(n_splits=10, random_state=0, shuffle=True)\n",
    "\n",
    "estimator = tree.DecisionTreeClassifier(max_depth=20,\n",
    "                                  criterion='gini',\n",
    "                                  random_state=0,\n",
    "                                  min_samples_leaf=1,\n",
    "                                  min_samples_split=3)\n",
    "fig, axes = plt.subplots(1,1, figsize=(8, 5))\n",
    "plot_learning_curve(estimator, \"Decision Tree Learning Rate\", X_train, y_train, axes=[axes], ylim=(0.6, 1.01),\n",
    "                    cv=cv, n_jobs=4)"
   ]
  },
  {
   "cell_type": "code",
   "execution_count": 110,
   "metadata": {},
   "outputs": [
    {
     "name": "stdout",
     "output_type": "stream",
     "text": [
      "Using Poly Kernel:\n",
      "SVM Train Accuracy 0.7210962032543534\n",
      "SVM Test Accuracy 0.43522935779816513\n",
      "[learning_curve] Training set sizes: [ 315 1024 1733 2442 3152]\n"
     ]
    },
    {
     "name": "stderr",
     "output_type": "stream",
     "text": [
      "[Parallel(n_jobs=4)]: Using backend LokyBackend with 4 concurrent workers.\n",
      "[Parallel(n_jobs=4)]: Done  25 out of  50 | elapsed:   14.0s remaining:   14.0s\n"
     ]
    },
    {
     "name": "stdout",
     "output_type": "stream",
     "text": [
      "CV Scores: [0.29802279 0.33629141 0.38254864 0.40766952 0.44220676]\n"
     ]
    },
    {
     "name": "stderr",
     "output_type": "stream",
     "text": [
      "[Parallel(n_jobs=4)]: Done  50 out of  50 | elapsed:   27.1s finished\n"
     ]
    },
    {
     "data": {
      "text/plain": [
       "<module 'matplotlib.pyplot' from '/Users/ahsanaziz/opt/anaconda3/lib/python3.8/site-packages/matplotlib/pyplot.py'>"
      ]
     },
     "execution_count": 110,
     "metadata": {},
     "output_type": "execute_result"
    },
    {
     "data": {
      "image/png": "[encoded data removed]",
      "text/plain": [
       "<Figure size 576x360 with 1 Axes>"
      ]
     },
     "metadata": {
      "needs_background": "light"
     },
     "output_type": "display_data"
    }
   ],
   "source": [
    "#Initial model\n",
    "svm = SVC(kernel='poly',\n",
    "          C=1,\n",
    "          degree=3,\n",
    "          random_state=0)\n",
    "svm.fit(X_train, y_train)\n",
    "\n",
    "y_train_pred = svm.predict(X_train)\n",
    "y_test_pred = svm.predict(X_test)\n",
    "\n",
    "print(\"Using Poly Kernel:\")\n",
    "print('SVM Train Accuracy' , accuracy_score(y_train, y_train_pred))\n",
    "print('SVM Test Accuracy' , accuracy_score(y_test, y_test_pred))\n",
    "\n",
    "cv = KFold(n_splits=10, random_state=0, shuffle=True)\n",
    "fig, axes = plt.subplots(1,1, figsize=(8, 5))\n",
    "plot_learning_curve(svm, \"Initial Poly Learning Rate\", X_train, y_train, axes=[axes], ylim=(0.25, 0.8),\n",
    "                    cv=cv, n_jobs=4)"
   ]
  },
  {
   "cell_type": "code",
   "execution_count": 111,
   "metadata": {},
   "outputs": [
    {
     "name": "stdout",
     "output_type": "stream",
     "text": [
      "Fitting 10 folds for each of 16 candidates, totalling 160 fits\n"
     ]
    },
    {
     "name": "stderr",
     "output_type": "stream",
     "text": [
      "[Parallel(n_jobs=-1)]: Using backend LokyBackend with 4 concurrent workers.\n",
      "[Parallel(n_jobs=-1)]: Done  42 tasks      | elapsed:   42.4s\n",
      "[Parallel(n_jobs=-1)]: Done 160 out of 160 | elapsed:  1.9min finished\n"
     ]
    },
    {
     "name": "stdout",
     "output_type": "stream",
     "text": [
      "{'C': 10, 'degree': 2, 'kernel': 'poly'}\n"
     ]
    }
   ],
   "source": [
    "svm_params1 = {\n",
    "    \"kernel\":['poly'],\n",
    "    \"degree\":range(1,5),\n",
    "    \"C\":[0.01,0.1,1,10]\n",
    "}\n",
    "\n",
    "svm = SVC()\n",
    "grid = GridSearchCV(svm,\n",
    "                    param_grid = svm_params1,\n",
    "                    cv=10,\n",
    "                    verbose=1,\n",
    "                    n_jobs=-1\n",
    ")\n",
    "grid.fit(X_train,y_train)\n",
    "print(grid.best_params_)\n",
    "#{'C': 10, 'degree': 2, 'kernel': 'poly'}"
   ]
  },
  {
   "cell_type": "code",
   "execution_count": 150,
   "metadata": {},
   "outputs": [
    {
     "name": "stdout",
     "output_type": "stream",
     "text": [
      "Using Poly Kernel:\n",
      "SVM Train Accuracy 0.9754496146160434\n",
      "SVM Train r2 score: 0.9601950957462886\n",
      "SVM Test Accuracy 0.8775535168195718\n",
      "SVM Test r2 score: 0.804462738588501\n",
      "F1 SCORE: 0.878\n"
     ]
    }
   ],
   "source": [
    "svm = SVC(kernel='poly',\n",
    "          C=10,\n",
    "          degree=2,\n",
    "          random_state=0)\n",
    "svm.fit(X_train, y_train)\n",
    "\n",
    "y_train_pred = svm.predict(X_train)\n",
    "y_test_pred = svm.predict(X_test)\n",
    "\n",
    "print(\"Using Poly Kernel:\")\n",
    "print('SVM Train Accuracy' , accuracy_score(y_train, y_train_pred))\n",
    "print(\"SVM Train r2 score:\",r2(y_train, y_train_pred))\n",
    "print('SVM Test Accuracy' , accuracy_score(y_test, y_test_pred))\n",
    "print(\"SVM Test r2 score:\",r2(y_test, y_test_pred))\n",
    "print(\"F1 SCORE:\",round(f1_score(y_test, y_test_pred, average='micro'),3))"
   ]
  },
  {
   "cell_type": "code",
   "execution_count": 112,
   "metadata": {},
   "outputs": [
    {
     "name": "stdout",
     "output_type": "stream",
     "text": [
      "Fitting 10 folds for each of 2 candidates, totalling 20 fits\n"
     ]
    },
    {
     "name": "stderr",
     "output_type": "stream",
     "text": [
      "[Parallel(n_jobs=-1)]: Using backend LokyBackend with 4 concurrent workers.\n",
      "[Parallel(n_jobs=-1)]: Done  20 out of  20 | elapsed:   14.4s finished\n"
     ]
    },
    {
     "name": "stdout",
     "output_type": "stream",
     "text": [
      "{'gamma': 'scale', 'kernel': 'rbf'}\n"
     ]
    }
   ],
   "source": [
    "svm_params1 = {\n",
    "    \"kernel\":['rbf'],\n",
    "    \"gamma\":['scale','auto']\n",
    "}\n",
    "\n",
    "svm = SVC()\n",
    "grid = GridSearchCV(svm,\n",
    "                    param_grid = svm_params1,\n",
    "                    cv=10,\n",
    "                    verbose=1,\n",
    "                    n_jobs=-1\n",
    ")\n",
    "grid.fit(X_train,y_train)\n",
    "print(grid.best_params_)\n",
    "#{'gamma': 'scale', 'kernel': 'rbf'}"
   ]
  },
  {
   "cell_type": "code",
   "execution_count": 149,
   "metadata": {},
   "outputs": [
    {
     "name": "stdout",
     "output_type": "stream",
     "text": [
      "\n",
      "Using RBF Kernel:\n",
      "SVM Train Accuracy 0.905224093634028\n",
      "SVM Train r2 score: 0.8323149308417609\n",
      "SVM Test Accuracy 0.8204281345565749\n",
      "SVM Test r2 score: 0.7183469969451003\n",
      "F1 SCORE: 0.82\n"
     ]
    }
   ],
   "source": [
    "svm = SVC(kernel='rbf',\n",
    "          gamma='scale',\n",
    "          random_state=0)\n",
    "svm.fit(X_train, y_train)\n",
    "\n",
    "y_train_pred = svm.predict(X_train)\n",
    "y_test_pred = svm.predict(X_test)\n",
    "\n",
    "print(\"\\nUsing RBF Kernel:\")\n",
    "print('SVM Train Accuracy' , accuracy_score(y_train, y_train_pred))\n",
    "print(\"SVM Train r2 score:\",r2(y_train, y_train_pred))\n",
    "print('SVM Test Accuracy' , accuracy_score(y_test, y_test_pred))\n",
    "print(\"SVM Test r2 score:\",r2(y_test, y_test_pred))\n",
    "print(\"F1 SCORE:\",round(f1_score(y_test, y_test_pred, average='micro'),3))"
   ]
  },
  {
   "cell_type": "code",
   "execution_count": 115,
   "metadata": {},
   "outputs": [
    {
     "data": {
      "text/plain": [
       "GridSearchCV(cv=10,\n",
       "             estimator=RandomForestClassifier(max_features='sqrt',\n",
       "                                              random_state=42),\n",
       "             param_grid={'criterion': ['entropy', 'gini'],\n",
       "                         'max_depth': [2, 4, 8, 16, 32, 64, 128]})"
      ]
     },
     "execution_count": 115,
     "metadata": {},
     "output_type": "execute_result"
    }
   ],
   "source": [
    "lr_grid = {'max_depth' : [2,4,8,16,32,64,128],\n",
    "           'criterion' : ['entropy','gini']}\n",
    "clf = RandomForestClassifier(n_estimators=100, max_features='sqrt', random_state=42)\n",
    "gs = GridSearchCV(estimator = clf, param_grid=lr_grid,cv = 10)\n",
    "gs.fit(X_train,y_train)"
   ]
  },
  {
   "cell_type": "code",
   "execution_count": 119,
   "metadata": {},
   "outputs": [
    {
     "data": {
      "text/plain": [
       "{'criterion': 'entropy', 'max_depth': 64}"
      ]
     },
     "execution_count": 119,
     "metadata": {},
     "output_type": "execute_result"
    }
   ],
   "source": [
    "y_pred = gs.predict(X_test)\n",
    "gs.best_params_"
   ]
  },
  {
   "cell_type": "code",
   "execution_count": 120,
   "metadata": {},
   "outputs": [
    {
     "name": "stdout",
     "output_type": "stream",
     "text": [
      "Classification Report: \n",
      "               precision    recall  f1-score   support\n",
      "\n",
      "           0       0.92      0.97      0.94      2031\n",
      "           1       0.93      0.91      0.92      2007\n",
      "           2       0.92      0.93      0.92      2083\n",
      "           3       0.87      0.84      0.86      2054\n",
      "\n",
      "    accuracy                           0.91      8175\n",
      "   macro avg       0.91      0.91      0.91      8175\n",
      "weighted avg       0.91      0.91      0.91      8175\n",
      "\n"
     ]
    }
   ],
   "source": [
    "print('Classification Report: \\n', classification_report(y_test,y_pred))"
   ]
  },
  {
   "cell_type": "code",
   "execution_count": 121,
   "metadata": {},
   "outputs": [
    {
     "name": "stdout",
     "output_type": "stream",
     "text": [
      "Confusion Matrix: \n",
      " [[1967    0   22   42]\n",
      " [   1 1823   63  120]\n",
      " [  27   43 1927   86]\n",
      " [ 141   94   88 1731]]\n"
     ]
    }
   ],
   "source": [
    "print('Confusion Matrix: \\n', confusion_matrix(y_test,y_pred))"
   ]
  },
  {
   "cell_type": "code",
   "execution_count": 77,
   "metadata": {},
   "outputs": [
    {
     "name": "stdout",
     "output_type": "stream",
     "text": [
      "All Data size X and y\n",
      "(11678, 8, 8)\n",
      "(11678, 4)\n",
      "Test Data size X and y\n",
      "(3978, 8, 8)\n",
      "(3978, 4)\n",
      "Train Data size X and y\n",
      "(7700, 8, 8)\n",
      "(7700, 4)\n",
      "Epoch 1/250\n",
      "241/241 - 11s - loss: 0.5682\n",
      "Epoch 2/250\n",
      "241/241 - 4s - loss: 0.5633\n",
      "Epoch 3/250\n",
      "241/241 - 4s - loss: 0.5632\n",
      "Epoch 4/250\n",
      "241/241 - 4s - loss: 0.5628\n",
      "Epoch 5/250\n",
      "241/241 - 5s - loss: 0.5627\n",
      "Epoch 6/250\n",
      "241/241 - 4s - loss: 0.5629\n",
      "Epoch 7/250\n",
      "241/241 - 4s - loss: 0.5626\n",
      "Epoch 8/250\n",
      "241/241 - 4s - loss: 0.5620\n",
      "Epoch 9/250\n",
      "241/241 - 4s - loss: 0.5602\n",
      "Epoch 10/250\n",
      "241/241 - 4s - loss: 0.5365\n",
      "Epoch 11/250\n",
      "241/241 - 4s - loss: 0.4895\n",
      "Epoch 12/250\n",
      "241/241 - 7s - loss: 0.4779\n",
      "Epoch 13/250\n",
      "241/241 - 5s - loss: 0.4329\n",
      "Epoch 14/250\n",
      "241/241 - 5s - loss: 0.4199\n",
      "Epoch 15/250\n",
      "241/241 - 6s - loss: 0.4105\n",
      "Epoch 16/250\n",
      "241/241 - 5s - loss: 0.3996\n",
      "Epoch 17/250\n",
      "241/241 - 4s - loss: 0.3866\n",
      "Epoch 18/250\n",
      "241/241 - 5s - loss: 0.3690\n",
      "Epoch 19/250\n",
      "241/241 - 4s - loss: 0.3542\n",
      "Epoch 20/250\n",
      "241/241 - 4s - loss: 0.3224\n",
      "Epoch 21/250\n",
      "241/241 - 4s - loss: 0.3074\n",
      "Epoch 22/250\n",
      "241/241 - 4s - loss: 0.2971\n",
      "Epoch 23/250\n",
      "241/241 - 4s - loss: 0.2917\n",
      "Epoch 24/250\n",
      "241/241 - 4s - loss: 0.2891\n",
      "Epoch 25/250\n",
      "241/241 - 4s - loss: 0.2838\n",
      "Epoch 26/250\n",
      "241/241 - 4s - loss: 0.2603\n",
      "Epoch 27/250\n",
      "241/241 - 4s - loss: 0.2431\n",
      "Epoch 28/250\n",
      "241/241 - 4s - loss: 0.2263\n",
      "Epoch 29/250\n",
      "241/241 - 4s - loss: 0.2212\n",
      "Epoch 30/250\n",
      "241/241 - 5s - loss: 0.2176\n",
      "Epoch 31/250\n",
      "241/241 - 5s - loss: 0.2097\n",
      "Epoch 32/250\n",
      "241/241 - 4s - loss: 0.2066\n",
      "Epoch 33/250\n",
      "241/241 - 4s - loss: 0.2036\n",
      "Epoch 34/250\n",
      "241/241 - 5s - loss: 0.1982\n",
      "Epoch 35/250\n",
      "241/241 - 5s - loss: 0.1962\n",
      "Epoch 36/250\n",
      "241/241 - 4s - loss: 0.1909\n",
      "Epoch 37/250\n",
      "241/241 - 4s - loss: 0.1826\n",
      "Epoch 38/250\n",
      "241/241 - 4s - loss: 0.1808\n",
      "Epoch 39/250\n",
      "241/241 - 4s - loss: 0.1706\n",
      "Epoch 40/250\n",
      "241/241 - 4s - loss: 0.1603\n",
      "Epoch 41/250\n",
      "241/241 - 4s - loss: 0.1499\n",
      "Epoch 42/250\n",
      "241/241 - 4s - loss: 0.1471\n",
      "Epoch 43/250\n",
      "241/241 - 4s - loss: 0.1408\n",
      "Epoch 44/250\n",
      "241/241 - 4s - loss: 0.1382\n",
      "Epoch 45/250\n",
      "241/241 - 4s - loss: 0.1323\n",
      "Epoch 46/250\n",
      "241/241 - 4s - loss: 0.1271\n",
      "Epoch 47/250\n",
      "241/241 - 4s - loss: 0.1222\n",
      "Epoch 48/250\n",
      "241/241 - 4s - loss: 0.1223\n",
      "Epoch 49/250\n",
      "241/241 - 4s - loss: 0.1207\n",
      "Epoch 50/250\n",
      "241/241 - 4s - loss: 0.1119\n",
      "Epoch 51/250\n",
      "241/241 - 4s - loss: 0.1153\n",
      "Epoch 52/250\n",
      "241/241 - 4s - loss: 0.1085\n",
      "Epoch 53/250\n",
      "241/241 - 5s - loss: 0.1080\n",
      "Epoch 54/250\n",
      "241/241 - 4s - loss: 0.1023\n",
      "Epoch 55/250\n",
      "241/241 - 4s - loss: 0.0979\n",
      "Epoch 56/250\n",
      "241/241 - 4s - loss: 0.0950\n",
      "Epoch 57/250\n",
      "241/241 - 5s - loss: 0.0970\n",
      "Epoch 58/250\n",
      "241/241 - 5s - loss: 0.0939\n",
      "Epoch 59/250\n",
      "241/241 - 5s - loss: 0.0920\n",
      "Epoch 60/250\n",
      "241/241 - 5s - loss: 0.0888\n",
      "Epoch 61/250\n",
      "241/241 - 4s - loss: 0.0838\n",
      "Epoch 62/250\n",
      "241/241 - 4s - loss: 0.0864\n",
      "Epoch 63/250\n",
      "241/241 - 4s - loss: 0.0861\n",
      "Epoch 64/250\n",
      "241/241 - 4s - loss: 0.0803\n",
      "Epoch 65/250\n",
      "241/241 - 4s - loss: 0.0800\n",
      "Epoch 66/250\n",
      "241/241 - 4s - loss: 0.0792\n",
      "Epoch 67/250\n",
      "241/241 - 4s - loss: 0.0770\n",
      "Epoch 68/250\n",
      "241/241 - 4s - loss: 0.0755\n",
      "Epoch 69/250\n",
      "241/241 - 4s - loss: 0.0748\n",
      "Epoch 70/250\n",
      "241/241 - 4s - loss: 0.0748\n",
      "Epoch 71/250\n",
      "241/241 - 4s - loss: 0.0760\n",
      "Epoch 72/250\n",
      "241/241 - 4s - loss: 0.0691\n",
      "Epoch 73/250\n",
      "241/241 - 4s - loss: 0.0754\n",
      "Epoch 74/250\n",
      "241/241 - 6s - loss: 0.0703\n",
      "Epoch 75/250\n",
      "241/241 - 5s - loss: 0.0705\n",
      "Epoch 76/250\n",
      "241/241 - 5s - loss: 0.0690\n",
      "Epoch 77/250\n",
      "241/241 - 4s - loss: 0.0666\n",
      "Epoch 78/250\n",
      "241/241 - 4s - loss: 0.0657\n",
      "Epoch 79/250\n",
      "241/241 - 5s - loss: 0.0648\n",
      "Epoch 80/250\n",
      "241/241 - 5s - loss: 0.0607\n",
      "Epoch 81/250\n",
      "241/241 - 5s - loss: 0.0594\n",
      "Epoch 82/250\n",
      "241/241 - 4s - loss: 0.0593\n",
      "Epoch 83/250\n",
      "241/241 - 4s - loss: 0.0635\n",
      "Epoch 84/250\n",
      "241/241 - 4s - loss: 0.0586\n",
      "Epoch 85/250\n",
      "241/241 - 4s - loss: 0.0561\n",
      "Epoch 86/250\n",
      "241/241 - 4s - loss: 0.0594\n",
      "Epoch 87/250\n",
      "241/241 - 4s - loss: 0.0570\n",
      "Epoch 88/250\n",
      "241/241 - 4s - loss: 0.0576\n",
      "Epoch 89/250\n",
      "241/241 - 4s - loss: 0.0556\n",
      "Epoch 90/250\n",
      "241/241 - 4s - loss: 0.0558\n",
      "Epoch 91/250\n",
      "241/241 - 4s - loss: 0.0514\n",
      "Epoch 92/250\n",
      "241/241 - 4s - loss: 0.0522\n",
      "Epoch 93/250\n",
      "241/241 - 4s - loss: 0.0536\n",
      "Epoch 94/250\n",
      "241/241 - 4s - loss: 0.0530\n",
      "Epoch 95/250\n",
      "241/241 - 4s - loss: 0.0477\n",
      "Epoch 96/250\n",
      "241/241 - 4s - loss: 0.0529\n",
      "Epoch 97/250\n",
      "241/241 - 4s - loss: 0.0504\n",
      "Epoch 98/250\n",
      "241/241 - 4s - loss: 0.0475\n",
      "Epoch 99/250\n",
      "241/241 - 4s - loss: 0.0440\n",
      "Epoch 100/250\n",
      "241/241 - 4s - loss: 0.0461\n",
      "Epoch 101/250\n",
      "241/241 - 4s - loss: 0.0441\n",
      "Epoch 102/250\n",
      "241/241 - 4s - loss: 0.0445\n",
      "Epoch 103/250\n",
      "241/241 - 4s - loss: 0.0449\n",
      "Epoch 104/250\n",
      "241/241 - 4s - loss: 0.0454\n",
      "Epoch 105/250\n",
      "241/241 - 4s - loss: 0.0460\n",
      "Epoch 106/250\n",
      "241/241 - 4s - loss: 0.0431\n",
      "Epoch 107/250\n",
      "241/241 - 4s - loss: 0.0457\n",
      "Epoch 108/250\n",
      "241/241 - 4s - loss: 0.0485\n",
      "Epoch 109/250\n",
      "241/241 - 4s - loss: 0.0425\n",
      "Epoch 110/250\n",
      "241/241 - 4s - loss: 0.0390\n",
      "Epoch 111/250\n",
      "241/241 - 4s - loss: 0.0411\n",
      "Epoch 112/250\n",
      "241/241 - 4s - loss: 0.0400\n",
      "Epoch 113/250\n",
      "241/241 - 5s - loss: 0.0416\n",
      "Epoch 114/250\n",
      "241/241 - 4s - loss: 0.0396\n",
      "Epoch 115/250\n",
      "241/241 - 4s - loss: 0.0382\n",
      "Epoch 116/250\n",
      "241/241 - 4s - loss: 0.0372\n",
      "Epoch 117/250\n",
      "241/241 - 4s - loss: 0.0395\n",
      "Epoch 118/250\n",
      "241/241 - 4s - loss: 0.0375\n",
      "Epoch 119/250\n",
      "241/241 - 4s - loss: 0.0379\n",
      "Epoch 120/250\n",
      "241/241 - 4s - loss: 0.0362\n",
      "Epoch 121/250\n",
      "241/241 - 4s - loss: 0.0401\n",
      "Epoch 122/250\n",
      "241/241 - 4s - loss: 0.0357\n",
      "Epoch 123/250\n",
      "241/241 - 4s - loss: 0.0375\n",
      "Epoch 124/250\n",
      "241/241 - 4s - loss: 0.0323\n",
      "Epoch 125/250\n",
      "241/241 - 4s - loss: 0.0337\n",
      "Epoch 126/250\n",
      "241/241 - 4s - loss: 0.0357\n",
      "Epoch 127/250\n",
      "241/241 - 4s - loss: 0.0354\n",
      "Epoch 128/250\n",
      "241/241 - 4s - loss: 0.0358\n",
      "Epoch 129/250\n",
      "241/241 - 4s - loss: 0.0350\n",
      "Epoch 130/250\n",
      "241/241 - 4s - loss: 0.0377\n",
      "Epoch 131/250\n",
      "241/241 - 4s - loss: 0.0270\n",
      "Epoch 132/250\n",
      "241/241 - 4s - loss: 0.0315\n",
      "Epoch 133/250\n",
      "241/241 - 4s - loss: 0.0314\n",
      "Epoch 134/250\n",
      "241/241 - 4s - loss: 0.0296\n",
      "Epoch 135/250\n",
      "241/241 - 4s - loss: 0.0302\n",
      "Epoch 136/250\n",
      "241/241 - 4s - loss: 0.0270\n",
      "Epoch 137/250\n",
      "241/241 - 4s - loss: 0.0305\n",
      "Epoch 138/250\n",
      "241/241 - 4s - loss: 0.0298\n",
      "Epoch 139/250\n",
      "241/241 - 4s - loss: 0.0310\n",
      "Epoch 140/250\n",
      "241/241 - 4s - loss: 0.0307\n",
      "Epoch 141/250\n",
      "241/241 - 4s - loss: 0.0296\n",
      "Epoch 142/250\n",
      "241/241 - 4s - loss: 0.0276\n",
      "Epoch 143/250\n",
      "241/241 - 4s - loss: 0.0257\n",
      "Epoch 144/250\n",
      "241/241 - 4s - loss: 0.0280\n",
      "Epoch 145/250\n",
      "241/241 - 4s - loss: 0.0227\n",
      "Epoch 146/250\n",
      "241/241 - 4s - loss: 0.0300\n",
      "Epoch 147/250\n",
      "241/241 - 4s - loss: 0.0326\n",
      "Epoch 148/250\n",
      "241/241 - 4s - loss: 0.0259\n",
      "Epoch 149/250\n",
      "241/241 - 4s - loss: 0.0223\n",
      "Epoch 150/250\n",
      "241/241 - 4s - loss: 0.0303\n",
      "Epoch 151/250\n",
      "241/241 - 4s - loss: 0.0220\n",
      "Epoch 152/250\n",
      "241/241 - 5s - loss: 0.0294\n",
      "Epoch 153/250\n",
      "241/241 - 4s - loss: 0.0293\n",
      "Epoch 154/250\n",
      "241/241 - 4s - loss: 0.0274\n",
      "Epoch 155/250\n",
      "241/241 - 4s - loss: 0.0215\n",
      "Epoch 156/250\n",
      "241/241 - 4s - loss: 0.0259\n",
      "Epoch 157/250\n",
      "241/241 - 4s - loss: 0.0215\n",
      "Epoch 158/250\n",
      "241/241 - 5s - loss: 0.0214\n",
      "Epoch 159/250\n",
      "241/241 - 4s - loss: 0.0267\n",
      "Epoch 160/250\n",
      "241/241 - 5s - loss: 0.0227\n",
      "Epoch 161/250\n",
      "241/241 - 4s - loss: 0.0256\n",
      "Epoch 162/250\n",
      "241/241 - 4s - loss: 0.0198\n",
      "Epoch 163/250\n",
      "241/241 - 4s - loss: 0.0259\n",
      "Epoch 164/250\n",
      "241/241 - 4s - loss: 0.0214\n",
      "Epoch 165/250\n",
      "241/241 - 4s - loss: 0.0200\n",
      "Epoch 166/250\n",
      "241/241 - 4s - loss: 0.0222\n",
      "Epoch 167/250\n",
      "241/241 - 4s - loss: 0.0292\n",
      "Epoch 168/250\n",
      "241/241 - 4s - loss: 0.0194\n",
      "Epoch 169/250\n",
      "241/241 - 4s - loss: 0.0216\n",
      "Epoch 170/250\n",
      "241/241 - 4s - loss: 0.0211\n",
      "Epoch 171/250\n",
      "241/241 - 4s - loss: 0.0239\n",
      "Epoch 172/250\n",
      "241/241 - 4s - loss: 0.0249\n",
      "Epoch 173/250\n",
      "241/241 - 4s - loss: 0.0196\n",
      "Epoch 174/250\n",
      "241/241 - 4s - loss: 0.0228\n",
      "Epoch 175/250\n",
      "241/241 - 4s - loss: 0.0219\n",
      "Epoch 176/250\n",
      "241/241 - 4s - loss: 0.0175\n",
      "Epoch 177/250\n",
      "241/241 - 4s - loss: 0.0181\n",
      "Epoch 178/250\n",
      "241/241 - 4s - loss: 0.0222\n",
      "Epoch 179/250\n",
      "241/241 - 4s - loss: 0.0182\n",
      "Epoch 180/250\n",
      "241/241 - 4s - loss: 0.0187\n",
      "Epoch 181/250\n",
      "241/241 - 4s - loss: 0.0231\n",
      "Epoch 182/250\n",
      "241/241 - 4s - loss: 0.0176\n",
      "Epoch 183/250\n",
      "241/241 - 4s - loss: 0.0208\n",
      "Epoch 184/250\n",
      "241/241 - 4s - loss: 0.0175\n",
      "Epoch 185/250\n",
      "241/241 - 4s - loss: 0.0207\n",
      "Epoch 186/250\n",
      "241/241 - 4s - loss: 0.0188\n",
      "Epoch 187/250\n",
      "241/241 - 4s - loss: 0.0196\n",
      "Epoch 188/250\n",
      "241/241 - 4s - loss: 0.0209\n",
      "Epoch 189/250\n",
      "241/241 - 4s - loss: 0.0155\n",
      "Epoch 190/250\n",
      "241/241 - 4s - loss: 0.0185\n",
      "Epoch 191/250\n",
      "241/241 - 4s - loss: 0.0167\n",
      "Epoch 192/250\n",
      "241/241 - 4s - loss: 0.0181\n",
      "Epoch 193/250\n",
      "241/241 - 4s - loss: 0.0205\n",
      "Epoch 194/250\n",
      "241/241 - 4s - loss: 0.0182\n",
      "Epoch 195/250\n",
      "241/241 - 4s - loss: 0.0163\n",
      "Epoch 196/250\n",
      "241/241 - 4s - loss: 0.0169\n",
      "Epoch 197/250\n",
      "241/241 - 4s - loss: 0.0186\n",
      "Epoch 198/250\n",
      "241/241 - 4s - loss: 0.0154\n",
      "Epoch 199/250\n",
      "241/241 - 4s - loss: 0.0164\n",
      "Epoch 200/250\n",
      "241/241 - 4s - loss: 0.0168\n",
      "Epoch 201/250\n",
      "241/241 - 4s - loss: 0.0148\n",
      "Epoch 202/250\n",
      "241/241 - 4s - loss: 0.0200\n",
      "Epoch 203/250\n",
      "241/241 - 4s - loss: 0.0156\n",
      "Epoch 204/250\n",
      "241/241 - 4s - loss: 0.0132\n",
      "Epoch 205/250\n",
      "241/241 - 4s - loss: 0.0203\n",
      "Epoch 206/250\n",
      "241/241 - 4s - loss: 0.0157\n",
      "Epoch 207/250\n",
      "241/241 - 4s - loss: 0.0109\n",
      "Epoch 208/250\n",
      "241/241 - 4s - loss: 0.0129\n",
      "Epoch 209/250\n",
      "241/241 - 4s - loss: 0.0149\n",
      "Epoch 210/250\n",
      "241/241 - 4s - loss: 0.0148\n",
      "Epoch 211/250\n",
      "241/241 - 4s - loss: 0.0150\n",
      "Epoch 212/250\n",
      "241/241 - 4s - loss: 0.0148\n",
      "Epoch 213/250\n",
      "241/241 - 4s - loss: 0.0106\n",
      "Epoch 214/250\n",
      "241/241 - 4s - loss: 0.0167\n",
      "Epoch 215/250\n",
      "241/241 - 4s - loss: 0.0143\n",
      "Epoch 216/250\n",
      "241/241 - 4s - loss: 0.0209\n",
      "Epoch 217/250\n",
      "241/241 - 4s - loss: 0.0106\n",
      "Epoch 218/250\n",
      "241/241 - 4s - loss: 0.0216\n",
      "Epoch 219/250\n",
      "241/241 - 4s - loss: 0.0115\n",
      "Epoch 220/250\n",
      "241/241 - 4s - loss: 0.0152\n",
      "Epoch 221/250\n",
      "241/241 - 4s - loss: 0.0143\n",
      "Epoch 222/250\n",
      "241/241 - 4s - loss: 0.0184\n",
      "Epoch 223/250\n",
      "241/241 - 4s - loss: 0.0161\n",
      "Epoch 224/250\n",
      "241/241 - 4s - loss: 0.0136\n",
      "Epoch 225/250\n",
      "241/241 - 4s - loss: 0.0153\n",
      "Epoch 226/250\n",
      "241/241 - 4s - loss: 0.0163\n",
      "Epoch 227/250\n",
      "241/241 - 6s - loss: 0.0114\n",
      "Epoch 228/250\n",
      "241/241 - 6s - loss: 0.0198\n",
      "Epoch 229/250\n",
      "241/241 - 6s - loss: 0.0109\n",
      "Epoch 230/250\n",
      "241/241 - 4s - loss: 0.0124\n",
      "Epoch 231/250\n",
      "241/241 - 4s - loss: 0.0135\n",
      "Epoch 232/250\n",
      "241/241 - 4s - loss: 0.0150\n",
      "Epoch 233/250\n",
      "241/241 - 5s - loss: 0.0146\n",
      "Epoch 234/250\n",
      "241/241 - 13s - loss: 0.0125\n",
      "Epoch 235/250\n",
      "241/241 - 5s - loss: 0.0123\n",
      "Epoch 236/250\n",
      "241/241 - 7s - loss: 0.0130\n",
      "Epoch 237/250\n",
      "241/241 - 4s - loss: 0.0133\n",
      "Epoch 238/250\n",
      "241/241 - 4s - loss: 0.0123\n",
      "Epoch 239/250\n",
      "241/241 - 4s - loss: 0.0112\n",
      "Epoch 240/250\n",
      "241/241 - 4s - loss: 0.0150\n",
      "Epoch 241/250\n",
      "241/241 - 4s - loss: 0.0096\n",
      "Epoch 242/250\n",
      "241/241 - 4s - loss: 0.0111\n",
      "Epoch 243/250\n",
      "241/241 - 4s - loss: 0.0122\n",
      "Epoch 244/250\n",
      "241/241 - 4s - loss: 0.0128\n",
      "Epoch 245/250\n",
      "241/241 - 4s - loss: 0.0102\n",
      "Epoch 246/250\n",
      "241/241 - 4s - loss: 0.0139\n",
      "Epoch 247/250\n",
      "241/241 - 5s - loss: 0.0107\n",
      "Epoch 248/250\n",
      "241/241 - 5s - loss: 0.0143\n",
      "Epoch 249/250\n",
      "241/241 - 4s - loss: 0.0114\n",
      "Epoch 250/250\n",
      "241/241 - 5s - loss: 0.0084\n",
      "Saved model to disk\n"
     ]
    },
    {
     "name": "stderr",
     "output_type": "stream",
     "text": [
      "/Users/ahsanaziz/opt/anaconda3/lib/python3.8/site-packages/tensorflow/python/keras/engine/sequential.py:450: UserWarning: `model.predict_classes()` is deprecated and will be removed after 2021-01-01. Please use instead:* `np.argmax(model.predict(x), axis=-1)`,   if your model does multi-class classification   (e.g. if it uses a `softmax` last-layer activation).* `(model.predict(x) > 0.5).astype(\"int32\")`,   if your model does binary classification   (e.g. if it uses a `sigmoid` last-layer activation).\n",
      "  warnings.warn('`model.predict_classes()` is deprecated and '\n"
     ]
    },
    {
     "name": "stdout",
     "output_type": "stream",
     "text": [
      "Correct classification rate on test data\n",
      "95.55052790346909\n",
      "Correct classification rate on train data\n",
      "99.97402597402598\n"
     ]
    }
   ],
   "source": [
    "rock_dataset = pd.read_csv(\"0.csv\", header=None) # class = 0\n",
    "scissors_dataset = pd.read_csv(\"1.csv\", header=None) # class = 1\n",
    "paper_dataset = pd.read_csv(\"2.csv\", header=None) # class = 2\n",
    "ok_dataset = pd.read_csv(\"3.csv\", header=None) # class = 3\n",
    "\n",
    "frames = [rock_dataset, scissors_dataset, paper_dataset, ok_dataset]\n",
    "dataset = pd.concat(frames)\n",
    "\n",
    "dataset_train = dataset.iloc[np.random.permutation(len(dataset))]\n",
    "dataset_train.reset_index(drop=True)\n",
    "\n",
    "X_train = []\n",
    "y_train = []\n",
    "\n",
    "for i in range(0, dataset_train.shape[0]):\n",
    "    row = np.array(dataset_train.iloc[i:1+i, 0:64].values)\n",
    "    X_train.append(np.reshape(row, (64, 1)))\n",
    "    y_train.append(np.array(dataset_train.iloc[i:1+i, -1:])[0][0])\n",
    "    \n",
    "X_train = np.array(X_train)\n",
    "y_train = np.array(y_train)\n",
    "\n",
    "X_train = X_train.reshape(X_train.shape[0]*X_train.shape[1], 1)\n",
    "X_train = sc.fit_transform(X_train)\n",
    "\n",
    "X_train = X_train.reshape((-1, 8, 8))\n",
    "\n",
    "# Convert to one hot\n",
    "y_train = np.eye(np.max(y_train) + 1)[y_train]\n",
    "\n",
    "print(\"All Data size X and y\")\n",
    "print(X_train.shape)\n",
    "print(y_train.shape)\n",
    "\n",
    "# Splitting Train/Test\n",
    "X_test = X_train[7700:]\n",
    "y_test = y_train[7700:]\n",
    "print(\"Test Data size X and y\")\n",
    "print(X_test.shape)\n",
    "print(y_test.shape)\n",
    "\n",
    "X_train = X_train[0:7700]\n",
    "y_train = y_train[0:7700]\n",
    "print(\"Train Data size X and y\")\n",
    "print(X_train.shape)\n",
    "print(y_train.shape)\n",
    "\n",
    "classifier = Sequential()\n",
    "\n",
    "classifier.add(LSTM(units=50, return_sequences=True, input_shape=(X_train.shape[1], 8)))\n",
    "classifier.add(Dropout(0.2))\n",
    "\n",
    "classifier.add(LSTM(units = 50, return_sequences = True))\n",
    "classifier.add(Dropout(0.2))\n",
    "\n",
    "classifier.add(LSTM(units = 50, return_sequences = True))\n",
    "classifier.add(Dropout(0.2))\n",
    "\n",
    "classifier.add(LSTM(units = 50))\n",
    "classifier.add(Dropout(0.2))\n",
    "\n",
    "classifier.add(Dense(units = 64))\n",
    "classifier.add(Dense(units = 128))\n",
    "\n",
    "classifier.add(Dense(units = 4, activation=\"softmax\"))\n",
    "\n",
    "classifier.compile(optimizer = 'adam', loss = 'binary_crossentropy')\n",
    "\n",
    "classifier.fit(X_train, y_train, epochs = 250, batch_size = 32, verbose=2)\n",
    "\n",
    "# Save\n",
    "classifier.save(\"model_cross_splited_data.h5\")\n",
    "print(\"Saved model to disk\")\n",
    "\n",
    "from tensorflow import keras\n",
    "\n",
    "# # Load Model\n",
    "# model = keras.models.load_model('model_cross_splited_data.h5')\n",
    "# model.summary()\n",
    "\n",
    "def evaluateModel(prediction, y):\n",
    "    good = 0\n",
    "    for i in range(len(y)):\n",
    "        if (prediction[i] == np.argmax(y[i])):\n",
    "            good = good +1\n",
    "    return (good/len(y)) * 100.0\n",
    "\n",
    "result_test = classifier.predict_classes(X_test)\n",
    "print(\"Correct classification rate on test data\")\n",
    "print(evaluateModel(result_test, y_test))\n",
    "\n",
    "result_train = classifier.predict_classes(X_train)\n",
    "print(\"Correct classification rate on train data\")\n",
    "print(evaluateModel(result_train, y_train))"
   ]
  },
  {
   "cell_type": "code",
   "execution_count": null,
   "metadata": {},
   "outputs": [],
   "source": []
  }
 ],
 "metadata": {
  "kernelspec": {
   "display_name": "Python 3",
   "language": "python",
   "name": "python3"
  },
  "language_info": {
   "codemirror_mode": {
    "name": "ipython",
    "version": 3
   },
   "file_extension": ".py",
   "mimetype": "text/x-python",
   "name": "python",
   "nbconvert_exporter": "python",
   "pygments_lexer": "ipython3",
   "version": "3.8.3"
  }
 },
 "nbformat": 4,
 "nbformat_minor": 4
}
